{
 "cells": [
  {
   "cell_type": "code",
   "execution_count": 1,
   "id": "dc0d54bc",
   "metadata": {},
   "outputs": [],
   "source": [
    "lst=[('m',)]"
   ]
  },
  {
   "cell_type": "code",
   "execution_count": 4,
   "id": "defe60e7",
   "metadata": {},
   "outputs": [
    {
     "data": {
      "text/plain": [
       "'m'"
      ]
     },
     "execution_count": 4,
     "metadata": {},
     "output_type": "execute_result"
    }
   ],
   "source": [
    "lst[0][0]"
   ]
  },
  {
   "cell_type": "code",
   "execution_count": 33,
   "id": "b4abbcc8",
   "metadata": {},
   "outputs": [],
   "source": [
    "lst=[0.3,0.7,0.1]\n",
    "\n",
    "def largest_element(lst):\n",
    "    largest=lst[0]\n",
    "    place=0\n",
    "    for i in range(0,3):\n",
    "        if lst[i]>largest:\n",
    "            largest=lst[i]\n",
    "            place+=i\n",
    "\n",
    "    return largest      \n",
    "                    \n",
    "largst=largest_element(lst)\n",
    "\n",
    "def place(lst,element):\n",
    "    names={\n",
    "             0:\"non-diabetic\",\n",
    "             1:\"diabetic\",\n",
    "             2:\"prediabetic\"\n",
    "\n",
    "         }\n",
    "    for i in range(len(lst)):\n",
    "        if lst[i]==element:\n",
    "            return names[i]\n",
    "\n",
    "p=place(lst,largst)        \n",
    "       "
   ]
  },
  {
   "cell_type": "code",
   "execution_count": 34,
   "id": "cd311a4a",
   "metadata": {},
   "outputs": [
    {
     "name": "stdout",
     "output_type": "stream",
     "text": [
      "0.7 diabetic\n"
     ]
    }
   ],
   "source": [
    "                    \n",
    "print(largst,p)"
   ]
  },
  {
   "cell_type": "code",
   "execution_count": null,
   "id": "f7c94b53",
   "metadata": {},
   "outputs": [
    {
     "data": {
      "text/plain": [
       "2"
      ]
     },
     "execution_count": 3,
     "metadata": {},
     "output_type": "execute_result"
    }
   ],
   "source": [
    "lst=[1,2]\n",
    "def largest(lst):\n",
    "    large=0\n",
    "    index=0\n",
    "    first_element=lst[0]\n",
    "    second_element=lst[1]\n",
    "\n",
    "    if first_element>second_element:\n",
    "            large=first_element\n",
    "            index=0\n",
    "    else:\n",
    "            large=second_element\n",
    "            index=1\n",
    "    return large ,index               \n",
    "                  \n",
    "          \n",
    "largest(lst)"
   ]
  },
  {
   "cell_type": "code",
   "execution_count": null,
   "id": "3d98666a",
   "metadata": {},
   "outputs": [],
   "source": []
  }
 ],
 "metadata": {
  "kernelspec": {
   "display_name": ".venv (3.13.1)",
   "language": "python",
   "name": "python3"
  },
  "language_info": {
   "codemirror_mode": {
    "name": "ipython",
    "version": 3
   },
   "file_extension": ".py",
   "mimetype": "text/x-python",
   "name": "python",
   "nbconvert_exporter": "python",
   "pygments_lexer": "ipython3",
   "version": "3.13.1"
  }
 },
 "nbformat": 4,
 "nbformat_minor": 5
}
