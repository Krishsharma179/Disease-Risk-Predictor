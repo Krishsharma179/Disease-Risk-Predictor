{
 "cells": [
  {
   "cell_type": "code",
   "execution_count": 1,
   "id": "dc0d54bc",
   "metadata": {},
   "outputs": [],
   "source": [
    "lst=[('m',)]"
   ]
  },
  {
   "cell_type": "code",
   "execution_count": 4,
   "id": "defe60e7",
   "metadata": {},
   "outputs": [
    {
     "data": {
      "text/plain": [
       "'m'"
      ]
     },
     "execution_count": 4,
     "metadata": {},
     "output_type": "execute_result"
    }
   ],
   "source": [
    "lst[0][0]"
   ]
  },
  {
   "cell_type": "code",
   "execution_count": null,
   "id": "b4abbcc8",
   "metadata": {},
   "outputs": [],
   "source": [
    "lst=[0.3,0.7,0.1]\n",
    "\n",
    "def largest_element(lst):\n",
    "    largest=lst[0]\n",
    "    place=0\n",
    "    for i in range(0,3):\n",
    "        if lst[i]>largest:\n",
    "            largest=lst[i]\n",
    "            place+=1\n",
    "\n",
    "    return largest,place       \n",
    "                    \n",
    "largst,index=largest_element(lst)               \n",
    "       "
   ]
  },
  {
   "cell_type": "code",
   "execution_count": 14,
   "id": "cd311a4a",
   "metadata": {},
   "outputs": [
    {
     "name": "stdout",
     "output_type": "stream",
     "text": [
      "0.7 0\n"
     ]
    }
   ],
   "source": [
    "                    \n",
    "print(largst,index)"
   ]
  },
  {
   "cell_type": "code",
   "execution_count": null,
   "id": "f7c94b53",
   "metadata": {},
   "outputs": [],
   "source": []
  },
  {
   "cell_type": "code",
   "execution_count": null,
   "id": "3d98666a",
   "metadata": {},
   "outputs": [],
   "source": []
  }
 ],
 "metadata": {
  "kernelspec": {
   "display_name": ".venv (3.13.1)",
   "language": "python",
   "name": "python3"
  },
  "language_info": {
   "codemirror_mode": {
    "name": "ipython",
    "version": 3
   },
   "file_extension": ".py",
   "mimetype": "text/x-python",
   "name": "python",
   "nbconvert_exporter": "python",
   "pygments_lexer": "ipython3",
   "version": "3.13.1"
  }
 },
 "nbformat": 4,
 "nbformat_minor": 5
}
