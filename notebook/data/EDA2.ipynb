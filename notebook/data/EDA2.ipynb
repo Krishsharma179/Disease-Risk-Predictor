{
 "cells": [
  {
   "cell_type": "code",
   "execution_count": 1,
   "id": "4e1af5a6",
   "metadata": {},
   "outputs": [],
   "source": [
    "import numpy as np\n",
    "import pandas as pd\n",
    "import matplotlib.pyplot as plt\n",
    "import seaborn as sns"
   ]
  },
  {
   "cell_type": "code",
   "execution_count": 2,
   "id": "52c8fd36",
   "metadata": {},
   "outputs": [],
   "source": [
    "df=pd.read_csv(r\"C:\\Users\\krish sharma\\OneDrive\\Desktop\\datasets\\heart_statlog_cleveland_hungary_final.csv\")"
   ]
  },
  {
   "cell_type": "code",
   "execution_count": 3,
   "id": "d2a71194",
   "metadata": {},
   "outputs": [
    {
     "data": {
      "text/html": [
       "<div>\n",
       "<style scoped>\n",
       "    .dataframe tbody tr th:only-of-type {\n",
       "        vertical-align: middle;\n",
       "    }\n",
       "\n",
       "    .dataframe tbody tr th {\n",
       "        vertical-align: top;\n",
       "    }\n",
       "\n",
       "    .dataframe thead th {\n",
       "        text-align: right;\n",
       "    }\n",
       "</style>\n",
       "<table border=\"1\" class=\"dataframe\">\n",
       "  <thead>\n",
       "    <tr style=\"text-align: right;\">\n",
       "      <th></th>\n",
       "      <th>age</th>\n",
       "      <th>sex</th>\n",
       "      <th>chest pain type</th>\n",
       "      <th>resting bp s</th>\n",
       "      <th>cholesterol</th>\n",
       "      <th>fasting blood sugar</th>\n",
       "      <th>resting ecg</th>\n",
       "      <th>max heart rate</th>\n",
       "      <th>exercise angina</th>\n",
       "      <th>oldpeak</th>\n",
       "      <th>ST slope</th>\n",
       "      <th>target</th>\n",
       "    </tr>\n",
       "  </thead>\n",
       "  <tbody>\n",
       "    <tr>\n",
       "      <th>0</th>\n",
       "      <td>40</td>\n",
       "      <td>1</td>\n",
       "      <td>2</td>\n",
       "      <td>140</td>\n",
       "      <td>289</td>\n",
       "      <td>0</td>\n",
       "      <td>0</td>\n",
       "      <td>172</td>\n",
       "      <td>0</td>\n",
       "      <td>0.0</td>\n",
       "      <td>1</td>\n",
       "      <td>0</td>\n",
       "    </tr>\n",
       "    <tr>\n",
       "      <th>1</th>\n",
       "      <td>49</td>\n",
       "      <td>0</td>\n",
       "      <td>3</td>\n",
       "      <td>160</td>\n",
       "      <td>180</td>\n",
       "      <td>0</td>\n",
       "      <td>0</td>\n",
       "      <td>156</td>\n",
       "      <td>0</td>\n",
       "      <td>1.0</td>\n",
       "      <td>2</td>\n",
       "      <td>1</td>\n",
       "    </tr>\n",
       "    <tr>\n",
       "      <th>2</th>\n",
       "      <td>37</td>\n",
       "      <td>1</td>\n",
       "      <td>2</td>\n",
       "      <td>130</td>\n",
       "      <td>283</td>\n",
       "      <td>0</td>\n",
       "      <td>1</td>\n",
       "      <td>98</td>\n",
       "      <td>0</td>\n",
       "      <td>0.0</td>\n",
       "      <td>1</td>\n",
       "      <td>0</td>\n",
       "    </tr>\n",
       "    <tr>\n",
       "      <th>3</th>\n",
       "      <td>48</td>\n",
       "      <td>0</td>\n",
       "      <td>4</td>\n",
       "      <td>138</td>\n",
       "      <td>214</td>\n",
       "      <td>0</td>\n",
       "      <td>0</td>\n",
       "      <td>108</td>\n",
       "      <td>1</td>\n",
       "      <td>1.5</td>\n",
       "      <td>2</td>\n",
       "      <td>1</td>\n",
       "    </tr>\n",
       "    <tr>\n",
       "      <th>4</th>\n",
       "      <td>54</td>\n",
       "      <td>1</td>\n",
       "      <td>3</td>\n",
       "      <td>150</td>\n",
       "      <td>195</td>\n",
       "      <td>0</td>\n",
       "      <td>0</td>\n",
       "      <td>122</td>\n",
       "      <td>0</td>\n",
       "      <td>0.0</td>\n",
       "      <td>1</td>\n",
       "      <td>0</td>\n",
       "    </tr>\n",
       "  </tbody>\n",
       "</table>\n",
       "</div>"
      ],
      "text/plain": [
       "   age  sex  chest pain type  resting bp s  cholesterol  fasting blood sugar  \\\n",
       "0   40    1                2           140          289                    0   \n",
       "1   49    0                3           160          180                    0   \n",
       "2   37    1                2           130          283                    0   \n",
       "3   48    0                4           138          214                    0   \n",
       "4   54    1                3           150          195                    0   \n",
       "\n",
       "   resting ecg  max heart rate  exercise angina  oldpeak  ST slope  target  \n",
       "0            0             172                0      0.0         1       0  \n",
       "1            0             156                0      1.0         2       1  \n",
       "2            1              98                0      0.0         1       0  \n",
       "3            0             108                1      1.5         2       1  \n",
       "4            0             122                0      0.0         1       0  "
      ]
     },
     "execution_count": 3,
     "metadata": {},
     "output_type": "execute_result"
    }
   ],
   "source": [
    "df.head()"
   ]
  },
  {
   "cell_type": "code",
   "execution_count": 4,
   "id": "55fcad53",
   "metadata": {},
   "outputs": [
    {
     "data": {
      "text/plain": [
       "age                    0\n",
       "sex                    0\n",
       "chest pain type        0\n",
       "resting bp s           0\n",
       "cholesterol            0\n",
       "fasting blood sugar    0\n",
       "resting ecg            0\n",
       "max heart rate         0\n",
       "exercise angina        0\n",
       "oldpeak                0\n",
       "ST slope               0\n",
       "target                 0\n",
       "dtype: int64"
      ]
     },
     "execution_count": 4,
     "metadata": {},
     "output_type": "execute_result"
    }
   ],
   "source": [
    "df.isnull().sum()"
   ]
  },
  {
   "cell_type": "code",
   "execution_count": 5,
   "id": "f229eb1b",
   "metadata": {},
   "outputs": [
    {
     "data": {
      "text/plain": [
       "np.int64(272)"
      ]
     },
     "execution_count": 5,
     "metadata": {},
     "output_type": "execute_result"
    }
   ],
   "source": [
    "df.duplicated().sum()"
   ]
  },
  {
   "cell_type": "code",
   "execution_count": 6,
   "id": "e7fbf136",
   "metadata": {},
   "outputs": [],
   "source": [
    "df=df.drop_duplicates()"
   ]
  },
  {
   "cell_type": "code",
   "execution_count": 7,
   "id": "5b49a374",
   "metadata": {},
   "outputs": [
    {
     "data": {
      "text/html": [
       "<div>\n",
       "<style scoped>\n",
       "    .dataframe tbody tr th:only-of-type {\n",
       "        vertical-align: middle;\n",
       "    }\n",
       "\n",
       "    .dataframe tbody tr th {\n",
       "        vertical-align: top;\n",
       "    }\n",
       "\n",
       "    .dataframe thead th {\n",
       "        text-align: right;\n",
       "    }\n",
       "</style>\n",
       "<table border=\"1\" class=\"dataframe\">\n",
       "  <thead>\n",
       "    <tr style=\"text-align: right;\">\n",
       "      <th></th>\n",
       "      <th>age</th>\n",
       "      <th>sex</th>\n",
       "      <th>chest pain type</th>\n",
       "      <th>resting bp s</th>\n",
       "      <th>cholesterol</th>\n",
       "      <th>fasting blood sugar</th>\n",
       "      <th>resting ecg</th>\n",
       "      <th>max heart rate</th>\n",
       "      <th>exercise angina</th>\n",
       "      <th>oldpeak</th>\n",
       "      <th>ST slope</th>\n",
       "      <th>target</th>\n",
       "    </tr>\n",
       "  </thead>\n",
       "  <tbody>\n",
       "    <tr>\n",
       "      <th>0</th>\n",
       "      <td>40</td>\n",
       "      <td>1</td>\n",
       "      <td>2</td>\n",
       "      <td>140</td>\n",
       "      <td>289</td>\n",
       "      <td>0</td>\n",
       "      <td>0</td>\n",
       "      <td>172</td>\n",
       "      <td>0</td>\n",
       "      <td>0.0</td>\n",
       "      <td>1</td>\n",
       "      <td>0</td>\n",
       "    </tr>\n",
       "    <tr>\n",
       "      <th>1</th>\n",
       "      <td>49</td>\n",
       "      <td>0</td>\n",
       "      <td>3</td>\n",
       "      <td>160</td>\n",
       "      <td>180</td>\n",
       "      <td>0</td>\n",
       "      <td>0</td>\n",
       "      <td>156</td>\n",
       "      <td>0</td>\n",
       "      <td>1.0</td>\n",
       "      <td>2</td>\n",
       "      <td>1</td>\n",
       "    </tr>\n",
       "    <tr>\n",
       "      <th>2</th>\n",
       "      <td>37</td>\n",
       "      <td>1</td>\n",
       "      <td>2</td>\n",
       "      <td>130</td>\n",
       "      <td>283</td>\n",
       "      <td>0</td>\n",
       "      <td>1</td>\n",
       "      <td>98</td>\n",
       "      <td>0</td>\n",
       "      <td>0.0</td>\n",
       "      <td>1</td>\n",
       "      <td>0</td>\n",
       "    </tr>\n",
       "    <tr>\n",
       "      <th>3</th>\n",
       "      <td>48</td>\n",
       "      <td>0</td>\n",
       "      <td>4</td>\n",
       "      <td>138</td>\n",
       "      <td>214</td>\n",
       "      <td>0</td>\n",
       "      <td>0</td>\n",
       "      <td>108</td>\n",
       "      <td>1</td>\n",
       "      <td>1.5</td>\n",
       "      <td>2</td>\n",
       "      <td>1</td>\n",
       "    </tr>\n",
       "    <tr>\n",
       "      <th>4</th>\n",
       "      <td>54</td>\n",
       "      <td>1</td>\n",
       "      <td>3</td>\n",
       "      <td>150</td>\n",
       "      <td>195</td>\n",
       "      <td>0</td>\n",
       "      <td>0</td>\n",
       "      <td>122</td>\n",
       "      <td>0</td>\n",
       "      <td>0.0</td>\n",
       "      <td>1</td>\n",
       "      <td>0</td>\n",
       "    </tr>\n",
       "    <tr>\n",
       "      <th>...</th>\n",
       "      <td>...</td>\n",
       "      <td>...</td>\n",
       "      <td>...</td>\n",
       "      <td>...</td>\n",
       "      <td>...</td>\n",
       "      <td>...</td>\n",
       "      <td>...</td>\n",
       "      <td>...</td>\n",
       "      <td>...</td>\n",
       "      <td>...</td>\n",
       "      <td>...</td>\n",
       "      <td>...</td>\n",
       "    </tr>\n",
       "    <tr>\n",
       "      <th>1185</th>\n",
       "      <td>45</td>\n",
       "      <td>1</td>\n",
       "      <td>1</td>\n",
       "      <td>110</td>\n",
       "      <td>264</td>\n",
       "      <td>0</td>\n",
       "      <td>0</td>\n",
       "      <td>132</td>\n",
       "      <td>0</td>\n",
       "      <td>1.2</td>\n",
       "      <td>2</td>\n",
       "      <td>1</td>\n",
       "    </tr>\n",
       "    <tr>\n",
       "      <th>1186</th>\n",
       "      <td>68</td>\n",
       "      <td>1</td>\n",
       "      <td>4</td>\n",
       "      <td>144</td>\n",
       "      <td>193</td>\n",
       "      <td>1</td>\n",
       "      <td>0</td>\n",
       "      <td>141</td>\n",
       "      <td>0</td>\n",
       "      <td>3.4</td>\n",
       "      <td>2</td>\n",
       "      <td>1</td>\n",
       "    </tr>\n",
       "    <tr>\n",
       "      <th>1187</th>\n",
       "      <td>57</td>\n",
       "      <td>1</td>\n",
       "      <td>4</td>\n",
       "      <td>130</td>\n",
       "      <td>131</td>\n",
       "      <td>0</td>\n",
       "      <td>0</td>\n",
       "      <td>115</td>\n",
       "      <td>1</td>\n",
       "      <td>1.2</td>\n",
       "      <td>2</td>\n",
       "      <td>1</td>\n",
       "    </tr>\n",
       "    <tr>\n",
       "      <th>1188</th>\n",
       "      <td>57</td>\n",
       "      <td>0</td>\n",
       "      <td>2</td>\n",
       "      <td>130</td>\n",
       "      <td>236</td>\n",
       "      <td>0</td>\n",
       "      <td>2</td>\n",
       "      <td>174</td>\n",
       "      <td>0</td>\n",
       "      <td>0.0</td>\n",
       "      <td>2</td>\n",
       "      <td>1</td>\n",
       "    </tr>\n",
       "    <tr>\n",
       "      <th>1189</th>\n",
       "      <td>38</td>\n",
       "      <td>1</td>\n",
       "      <td>3</td>\n",
       "      <td>138</td>\n",
       "      <td>175</td>\n",
       "      <td>0</td>\n",
       "      <td>0</td>\n",
       "      <td>173</td>\n",
       "      <td>0</td>\n",
       "      <td>0.0</td>\n",
       "      <td>1</td>\n",
       "      <td>0</td>\n",
       "    </tr>\n",
       "  </tbody>\n",
       "</table>\n",
       "<p>918 rows × 12 columns</p>\n",
       "</div>"
      ],
      "text/plain": [
       "      age  sex  chest pain type  resting bp s  cholesterol  \\\n",
       "0      40    1                2           140          289   \n",
       "1      49    0                3           160          180   \n",
       "2      37    1                2           130          283   \n",
       "3      48    0                4           138          214   \n",
       "4      54    1                3           150          195   \n",
       "...   ...  ...              ...           ...          ...   \n",
       "1185   45    1                1           110          264   \n",
       "1186   68    1                4           144          193   \n",
       "1187   57    1                4           130          131   \n",
       "1188   57    0                2           130          236   \n",
       "1189   38    1                3           138          175   \n",
       "\n",
       "      fasting blood sugar  resting ecg  max heart rate  exercise angina  \\\n",
       "0                       0            0             172                0   \n",
       "1                       0            0             156                0   \n",
       "2                       0            1              98                0   \n",
       "3                       0            0             108                1   \n",
       "4                       0            0             122                0   \n",
       "...                   ...          ...             ...              ...   \n",
       "1185                    0            0             132                0   \n",
       "1186                    1            0             141                0   \n",
       "1187                    0            0             115                1   \n",
       "1188                    0            2             174                0   \n",
       "1189                    0            0             173                0   \n",
       "\n",
       "      oldpeak  ST slope  target  \n",
       "0         0.0         1       0  \n",
       "1         1.0         2       1  \n",
       "2         0.0         1       0  \n",
       "3         1.5         2       1  \n",
       "4         0.0         1       0  \n",
       "...       ...       ...     ...  \n",
       "1185      1.2         2       1  \n",
       "1186      3.4         2       1  \n",
       "1187      1.2         2       1  \n",
       "1188      0.0         2       1  \n",
       "1189      0.0         1       0  \n",
       "\n",
       "[918 rows x 12 columns]"
      ]
     },
     "execution_count": 7,
     "metadata": {},
     "output_type": "execute_result"
    }
   ],
   "source": [
    "df"
   ]
  },
  {
   "cell_type": "code",
   "execution_count": 8,
   "id": "b67d4101",
   "metadata": {},
   "outputs": [
    {
     "data": {
      "text/plain": [
       "np.int64(0)"
      ]
     },
     "execution_count": 8,
     "metadata": {},
     "output_type": "execute_result"
    }
   ],
   "source": [
    "df.duplicated().sum()"
   ]
  },
  {
   "cell_type": "code",
   "execution_count": 9,
   "id": "f70d5d59",
   "metadata": {},
   "outputs": [
    {
     "name": "stdout",
     "output_type": "stream",
     "text": [
      "<class 'pandas.core.frame.DataFrame'>\n",
      "Index: 918 entries, 0 to 1189\n",
      "Data columns (total 12 columns):\n",
      " #   Column               Non-Null Count  Dtype  \n",
      "---  ------               --------------  -----  \n",
      " 0   age                  918 non-null    int64  \n",
      " 1   sex                  918 non-null    int64  \n",
      " 2   chest pain type      918 non-null    int64  \n",
      " 3   resting bp s         918 non-null    int64  \n",
      " 4   cholesterol          918 non-null    int64  \n",
      " 5   fasting blood sugar  918 non-null    int64  \n",
      " 6   resting ecg          918 non-null    int64  \n",
      " 7   max heart rate       918 non-null    int64  \n",
      " 8   exercise angina      918 non-null    int64  \n",
      " 9   oldpeak              918 non-null    float64\n",
      " 10  ST slope             918 non-null    int64  \n",
      " 11  target               918 non-null    int64  \n",
      "dtypes: float64(1), int64(11)\n",
      "memory usage: 93.2 KB\n"
     ]
    }
   ],
   "source": [
    "df.info()"
   ]
  },
  {
   "cell_type": "code",
   "execution_count": 10,
   "id": "c37f6c0f",
   "metadata": {},
   "outputs": [
    {
     "data": {
      "text/plain": [
       "age                    0\n",
       "sex                    0\n",
       "chest pain type        0\n",
       "resting bp s           0\n",
       "cholesterol            0\n",
       "fasting blood sugar    0\n",
       "resting ecg            0\n",
       "max heart rate         0\n",
       "exercise angina        0\n",
       "oldpeak                0\n",
       "ST slope               0\n",
       "target                 0\n",
       "dtype: int64"
      ]
     },
     "execution_count": 10,
     "metadata": {},
     "output_type": "execute_result"
    }
   ],
   "source": [
    "df.isnull().sum()"
   ]
  },
  {
   "cell_type": "code",
   "execution_count": 11,
   "id": "ea9ad37a",
   "metadata": {},
   "outputs": [
    {
     "data": {
      "text/html": [
       "<div>\n",
       "<style scoped>\n",
       "    .dataframe tbody tr th:only-of-type {\n",
       "        vertical-align: middle;\n",
       "    }\n",
       "\n",
       "    .dataframe tbody tr th {\n",
       "        vertical-align: top;\n",
       "    }\n",
       "\n",
       "    .dataframe thead th {\n",
       "        text-align: right;\n",
       "    }\n",
       "</style>\n",
       "<table border=\"1\" class=\"dataframe\">\n",
       "  <thead>\n",
       "    <tr style=\"text-align: right;\">\n",
       "      <th></th>\n",
       "      <th>age</th>\n",
       "      <th>sex</th>\n",
       "      <th>chest pain type</th>\n",
       "      <th>resting bp s</th>\n",
       "      <th>cholesterol</th>\n",
       "      <th>fasting blood sugar</th>\n",
       "      <th>resting ecg</th>\n",
       "      <th>max heart rate</th>\n",
       "      <th>exercise angina</th>\n",
       "      <th>oldpeak</th>\n",
       "      <th>ST slope</th>\n",
       "      <th>target</th>\n",
       "    </tr>\n",
       "  </thead>\n",
       "  <tbody>\n",
       "    <tr>\n",
       "      <th>count</th>\n",
       "      <td>918.000000</td>\n",
       "      <td>918.000000</td>\n",
       "      <td>918.000000</td>\n",
       "      <td>918.000000</td>\n",
       "      <td>918.000000</td>\n",
       "      <td>918.000000</td>\n",
       "      <td>918.000000</td>\n",
       "      <td>918.000000</td>\n",
       "      <td>918.000000</td>\n",
       "      <td>918.000000</td>\n",
       "      <td>918.000000</td>\n",
       "      <td>918.000000</td>\n",
       "    </tr>\n",
       "    <tr>\n",
       "      <th>mean</th>\n",
       "      <td>53.510893</td>\n",
       "      <td>0.789760</td>\n",
       "      <td>3.251634</td>\n",
       "      <td>132.396514</td>\n",
       "      <td>198.799564</td>\n",
       "      <td>0.233115</td>\n",
       "      <td>0.603486</td>\n",
       "      <td>136.809368</td>\n",
       "      <td>0.404139</td>\n",
       "      <td>0.887364</td>\n",
       "      <td>1.636166</td>\n",
       "      <td>0.553377</td>\n",
       "    </tr>\n",
       "    <tr>\n",
       "      <th>std</th>\n",
       "      <td>9.432617</td>\n",
       "      <td>0.407701</td>\n",
       "      <td>0.931031</td>\n",
       "      <td>18.514154</td>\n",
       "      <td>109.384145</td>\n",
       "      <td>0.423046</td>\n",
       "      <td>0.805968</td>\n",
       "      <td>25.460334</td>\n",
       "      <td>0.490992</td>\n",
       "      <td>1.066570</td>\n",
       "      <td>0.609341</td>\n",
       "      <td>0.497414</td>\n",
       "    </tr>\n",
       "    <tr>\n",
       "      <th>min</th>\n",
       "      <td>28.000000</td>\n",
       "      <td>0.000000</td>\n",
       "      <td>1.000000</td>\n",
       "      <td>0.000000</td>\n",
       "      <td>0.000000</td>\n",
       "      <td>0.000000</td>\n",
       "      <td>0.000000</td>\n",
       "      <td>60.000000</td>\n",
       "      <td>0.000000</td>\n",
       "      <td>-2.600000</td>\n",
       "      <td>0.000000</td>\n",
       "      <td>0.000000</td>\n",
       "    </tr>\n",
       "    <tr>\n",
       "      <th>25%</th>\n",
       "      <td>47.000000</td>\n",
       "      <td>1.000000</td>\n",
       "      <td>3.000000</td>\n",
       "      <td>120.000000</td>\n",
       "      <td>173.250000</td>\n",
       "      <td>0.000000</td>\n",
       "      <td>0.000000</td>\n",
       "      <td>120.000000</td>\n",
       "      <td>0.000000</td>\n",
       "      <td>0.000000</td>\n",
       "      <td>1.000000</td>\n",
       "      <td>0.000000</td>\n",
       "    </tr>\n",
       "    <tr>\n",
       "      <th>50%</th>\n",
       "      <td>54.000000</td>\n",
       "      <td>1.000000</td>\n",
       "      <td>4.000000</td>\n",
       "      <td>130.000000</td>\n",
       "      <td>223.000000</td>\n",
       "      <td>0.000000</td>\n",
       "      <td>0.000000</td>\n",
       "      <td>138.000000</td>\n",
       "      <td>0.000000</td>\n",
       "      <td>0.600000</td>\n",
       "      <td>2.000000</td>\n",
       "      <td>1.000000</td>\n",
       "    </tr>\n",
       "    <tr>\n",
       "      <th>75%</th>\n",
       "      <td>60.000000</td>\n",
       "      <td>1.000000</td>\n",
       "      <td>4.000000</td>\n",
       "      <td>140.000000</td>\n",
       "      <td>267.000000</td>\n",
       "      <td>0.000000</td>\n",
       "      <td>1.000000</td>\n",
       "      <td>156.000000</td>\n",
       "      <td>1.000000</td>\n",
       "      <td>1.500000</td>\n",
       "      <td>2.000000</td>\n",
       "      <td>1.000000</td>\n",
       "    </tr>\n",
       "    <tr>\n",
       "      <th>max</th>\n",
       "      <td>77.000000</td>\n",
       "      <td>1.000000</td>\n",
       "      <td>4.000000</td>\n",
       "      <td>200.000000</td>\n",
       "      <td>603.000000</td>\n",
       "      <td>1.000000</td>\n",
       "      <td>2.000000</td>\n",
       "      <td>202.000000</td>\n",
       "      <td>1.000000</td>\n",
       "      <td>6.200000</td>\n",
       "      <td>3.000000</td>\n",
       "      <td>1.000000</td>\n",
       "    </tr>\n",
       "  </tbody>\n",
       "</table>\n",
       "</div>"
      ],
      "text/plain": [
       "              age         sex  chest pain type  resting bp s  cholesterol  \\\n",
       "count  918.000000  918.000000       918.000000    918.000000   918.000000   \n",
       "mean    53.510893    0.789760         3.251634    132.396514   198.799564   \n",
       "std      9.432617    0.407701         0.931031     18.514154   109.384145   \n",
       "min     28.000000    0.000000         1.000000      0.000000     0.000000   \n",
       "25%     47.000000    1.000000         3.000000    120.000000   173.250000   \n",
       "50%     54.000000    1.000000         4.000000    130.000000   223.000000   \n",
       "75%     60.000000    1.000000         4.000000    140.000000   267.000000   \n",
       "max     77.000000    1.000000         4.000000    200.000000   603.000000   \n",
       "\n",
       "       fasting blood sugar  resting ecg  max heart rate  exercise angina  \\\n",
       "count           918.000000   918.000000      918.000000       918.000000   \n",
       "mean              0.233115     0.603486      136.809368         0.404139   \n",
       "std               0.423046     0.805968       25.460334         0.490992   \n",
       "min               0.000000     0.000000       60.000000         0.000000   \n",
       "25%               0.000000     0.000000      120.000000         0.000000   \n",
       "50%               0.000000     0.000000      138.000000         0.000000   \n",
       "75%               0.000000     1.000000      156.000000         1.000000   \n",
       "max               1.000000     2.000000      202.000000         1.000000   \n",
       "\n",
       "          oldpeak    ST slope      target  \n",
       "count  918.000000  918.000000  918.000000  \n",
       "mean     0.887364    1.636166    0.553377  \n",
       "std      1.066570    0.609341    0.497414  \n",
       "min     -2.600000    0.000000    0.000000  \n",
       "25%      0.000000    1.000000    0.000000  \n",
       "50%      0.600000    2.000000    1.000000  \n",
       "75%      1.500000    2.000000    1.000000  \n",
       "max      6.200000    3.000000    1.000000  "
      ]
     },
     "execution_count": 11,
     "metadata": {},
     "output_type": "execute_result"
    }
   ],
   "source": [
    "df.describe()"
   ]
  },
  {
   "cell_type": "code",
   "execution_count": 12,
   "id": "5380ffc1",
   "metadata": {},
   "outputs": [],
   "source": [
    "def check_corr(threshold,dataframe):\n",
    "    most_corr_features=[]\n",
    "    for i in range(len(df.columns)):\n",
    "        for j in range(i+1,len(df.columns)):\n",
    "            corr=dataframe[dataframe.columns[i]].corr(dataframe[dataframe.columns[j]])\n",
    "            if corr>threshold:\n",
    "                most_corr_features.append(dataframe.columns[j])\n",
    "    most_corr_features=set(most_corr_features)\n",
    "    return   most_corr_features   "
   ]
  },
  {
   "cell_type": "code",
   "execution_count": 13,
   "id": "6a9b46ce",
   "metadata": {},
   "outputs": [
    {
     "data": {
      "text/plain": [
       "{'ST slope', 'target'}"
      ]
     },
     "execution_count": 13,
     "metadata": {},
     "output_type": "execute_result"
    }
   ],
   "source": [
    "check_corr(0.50,df)"
   ]
  },
  {
   "cell_type": "code",
   "execution_count": 14,
   "id": "a7364d31",
   "metadata": {},
   "outputs": [
    {
     "data": {
      "text/plain": [
       "sex\n",
       "1    725\n",
       "0    193\n",
       "Name: count, dtype: int64"
      ]
     },
     "execution_count": 14,
     "metadata": {},
     "output_type": "execute_result"
    }
   ],
   "source": [
    "df['sex'].value_counts()"
   ]
  },
  {
   "cell_type": "markdown",
   "id": "c5c62890",
   "metadata": {},
   "source": [
    "data is imbalanced w.r.t. gender"
   ]
  },
  {
   "cell_type": "code",
   "execution_count": 15,
   "id": "fc8fb57a",
   "metadata": {},
   "outputs": [
    {
     "data": {
      "text/plain": [
       "target\n",
       "1    508\n",
       "0    410\n",
       "Name: count, dtype: int64"
      ]
     },
     "execution_count": 15,
     "metadata": {},
     "output_type": "execute_result"
    }
   ],
   "source": [
    "df['target'].value_counts()"
   ]
  },
  {
   "cell_type": "markdown",
   "id": "c18fbdfc",
   "metadata": {},
   "source": [
    "There is just 50 percent corr"
   ]
  },
  {
   "cell_type": "code",
   "execution_count": 16,
   "id": "ddc59da0",
   "metadata": {},
   "outputs": [
    {
     "data": {
      "image/png": "[encoded data removed]",
      "text/plain": [
       "<Figure size 640x480 with 2 Axes>"
      ]
     },
     "metadata": {},
     "output_type": "display_data"
    }
   ],
   "source": [
    "fig,axs=plt.subplots(1,2)\n",
    "\n",
    "sns.histplot(data=df,x='target',bins=30,color='g',ax=axs[0])\n",
    "\n",
    "sns.histplot(data=df,x='target',bins=30,hue='sex',ax=axs[1])\n",
    "\n",
    "plt.show()"
   ]
  },
  {
   "cell_type": "markdown",
   "id": "29ce4a86",
   "metadata": {},
   "source": [
    "0---->female\n",
    "1---->male\n",
    "So here there are between 200 to 300 number of males are not "
   ]
  },
  {
   "cell_type": "code",
   "execution_count": 17,
   "id": "c7cbe6c1",
   "metadata": {},
   "outputs": [
    {
     "data": {
      "image/png": "[encoded data removed]",
      "text/plain": [
       "<Figure size 800x600 with 1 Axes>"
      ]
     },
     "metadata": {},
     "output_type": "display_data"
    }
   ],
   "source": [
    "plt.figure(figsize=(8,6))\n",
    "sns.boxplot(data=df, x='target', y='age')\n",
    "plt.title('Age Distribution by CAD Class')\n",
    "plt.xlabel('CAD Class')\n",
    "plt.ylabel('Age')\n",
    "plt.show()"
   ]
  },
  {
   "cell_type": "markdown",
   "id": "39c5f14d",
   "metadata": {},
   "source": [
    "The older the person CAD is more likely to occur "
   ]
  },
  {
   "cell_type": "markdown",
   "id": "93bb905c",
   "metadata": {},
   "source": [
    "it has very less amoount of outliers\n"
   ]
  },
  {
   "cell_type": "code",
   "execution_count": 19,
   "id": "5a0a1396",
   "metadata": {},
   "outputs": [
    {
     "data": {
      "text/plain": [
       "<Axes: >"
      ]
     },
     "execution_count": 19,
     "metadata": {},
     "output_type": "execute_result"
    },
    {
     "data": {
      "image/png": "[encoded data removed]",
      "text/plain": [
       "<Figure size 900x900 with 2 Axes>"
      ]
     },
     "metadata": {},
     "output_type": "display_data"
    }
   ],
   "source": [
    "import matplotlib.pyplot as plt\n",
    "plt.figure(figsize=(9,9))\n",
    "sns.heatmap(df.corr(),annot=True,)"
   ]
  },
  {
   "cell_type": "code",
   "execution_count": 18,
   "id": "e65a1698",
   "metadata": {},
   "outputs": [
    {
     "data": {
      "text/html": [
       "<div>\n",
       "<style scoped>\n",
       "    .dataframe tbody tr th:only-of-type {\n",
       "        vertical-align: middle;\n",
       "    }\n",
       "\n",
       "    .dataframe tbody tr th {\n",
       "        vertical-align: top;\n",
       "    }\n",
       "\n",
       "    .dataframe thead th {\n",
       "        text-align: right;\n",
       "    }\n",
       "</style>\n",
       "<table border=\"1\" class=\"dataframe\">\n",
       "  <thead>\n",
       "    <tr style=\"text-align: right;\">\n",
       "      <th></th>\n",
       "      <th>age</th>\n",
       "      <th>sex</th>\n",
       "      <th>chest pain type</th>\n",
       "      <th>resting bp s</th>\n",
       "      <th>cholesterol</th>\n",
       "      <th>fasting blood sugar</th>\n",
       "      <th>resting ecg</th>\n",
       "      <th>max heart rate</th>\n",
       "      <th>exercise angina</th>\n",
       "      <th>oldpeak</th>\n",
       "      <th>ST slope</th>\n",
       "      <th>target</th>\n",
       "    </tr>\n",
       "  </thead>\n",
       "  <tbody>\n",
       "    <tr>\n",
       "      <th>0</th>\n",
       "      <td>40</td>\n",
       "      <td>1</td>\n",
       "      <td>2</td>\n",
       "      <td>140</td>\n",
       "      <td>289</td>\n",
       "      <td>0</td>\n",
       "      <td>0</td>\n",
       "      <td>172</td>\n",
       "      <td>0</td>\n",
       "      <td>0.0</td>\n",
       "      <td>1</td>\n",
       "      <td>0</td>\n",
       "    </tr>\n",
       "    <tr>\n",
       "      <th>1</th>\n",
       "      <td>49</td>\n",
       "      <td>0</td>\n",
       "      <td>3</td>\n",
       "      <td>160</td>\n",
       "      <td>180</td>\n",
       "      <td>0</td>\n",
       "      <td>0</td>\n",
       "      <td>156</td>\n",
       "      <td>0</td>\n",
       "      <td>1.0</td>\n",
       "      <td>2</td>\n",
       "      <td>1</td>\n",
       "    </tr>\n",
       "    <tr>\n",
       "      <th>2</th>\n",
       "      <td>37</td>\n",
       "      <td>1</td>\n",
       "      <td>2</td>\n",
       "      <td>130</td>\n",
       "      <td>283</td>\n",
       "      <td>0</td>\n",
       "      <td>1</td>\n",
       "      <td>98</td>\n",
       "      <td>0</td>\n",
       "      <td>0.0</td>\n",
       "      <td>1</td>\n",
       "      <td>0</td>\n",
       "    </tr>\n",
       "    <tr>\n",
       "      <th>3</th>\n",
       "      <td>48</td>\n",
       "      <td>0</td>\n",
       "      <td>4</td>\n",
       "      <td>138</td>\n",
       "      <td>214</td>\n",
       "      <td>0</td>\n",
       "      <td>0</td>\n",
       "      <td>108</td>\n",
       "      <td>1</td>\n",
       "      <td>1.5</td>\n",
       "      <td>2</td>\n",
       "      <td>1</td>\n",
       "    </tr>\n",
       "    <tr>\n",
       "      <th>4</th>\n",
       "      <td>54</td>\n",
       "      <td>1</td>\n",
       "      <td>3</td>\n",
       "      <td>150</td>\n",
       "      <td>195</td>\n",
       "      <td>0</td>\n",
       "      <td>0</td>\n",
       "      <td>122</td>\n",
       "      <td>0</td>\n",
       "      <td>0.0</td>\n",
       "      <td>1</td>\n",
       "      <td>0</td>\n",
       "    </tr>\n",
       "  </tbody>\n",
       "</table>\n",
       "</div>"
      ],
      "text/plain": [
       "   age  sex  chest pain type  resting bp s  cholesterol  fasting blood sugar  \\\n",
       "0   40    1                2           140          289                    0   \n",
       "1   49    0                3           160          180                    0   \n",
       "2   37    1                2           130          283                    0   \n",
       "3   48    0                4           138          214                    0   \n",
       "4   54    1                3           150          195                    0   \n",
       "\n",
       "   resting ecg  max heart rate  exercise angina  oldpeak  ST slope  target  \n",
       "0            0             172                0      0.0         1       0  \n",
       "1            0             156                0      1.0         2       1  \n",
       "2            1              98                0      0.0         1       0  \n",
       "3            0             108                1      1.5         2       1  \n",
       "4            0             122                0      0.0         1       0  "
      ]
     },
     "execution_count": 18,
     "metadata": {},
     "output_type": "execute_result"
    }
   ],
   "source": [
    "df.head()"
   ]
  },
  {
   "cell_type": "code",
   "execution_count": 19,
   "id": "9c944976",
   "metadata": {},
   "outputs": [],
   "source": [
    "df.rename(columns={'chest pain type': 'chest_pain_type'}, inplace=True)\n",
    "df.rename(columns={'resting bp s': 'resting_bp_s'}, inplace=True)\n",
    "df.rename(columns={'fasting blood sugar': 'fasting_blood_sugar'}, inplace=True)\n",
    "df.rename(columns={'resting ecg': 'resting_ecg'}, inplace=True)\n",
    "df.rename(columns={'max heart rate': 'max_heart_rate'}, inplace=True)\n",
    "df.rename(columns={'exercise angina': 'exercise_angina'}, inplace=True)\n",
    "df.rename(columns={'ST slope':'ST_slope'},inplace=True)\n"
   ]
  },
  {
   "cell_type": "code",
   "execution_count": 20,
   "id": "55d129b4",
   "metadata": {},
   "outputs": [
    {
     "data": {
      "text/html": [
       "<div>\n",
       "<style scoped>\n",
       "    .dataframe tbody tr th:only-of-type {\n",
       "        vertical-align: middle;\n",
       "    }\n",
       "\n",
       "    .dataframe tbody tr th {\n",
       "        vertical-align: top;\n",
       "    }\n",
       "\n",
       "    .dataframe thead th {\n",
       "        text-align: right;\n",
       "    }\n",
       "</style>\n",
       "<table border=\"1\" class=\"dataframe\">\n",
       "  <thead>\n",
       "    <tr style=\"text-align: right;\">\n",
       "      <th></th>\n",
       "      <th>age</th>\n",
       "      <th>sex</th>\n",
       "      <th>chest_pain_type</th>\n",
       "      <th>resting_bp_s</th>\n",
       "      <th>cholesterol</th>\n",
       "      <th>fasting_blood_sugar</th>\n",
       "      <th>resting_ecg</th>\n",
       "      <th>max_heart_rate</th>\n",
       "      <th>exercise_angina</th>\n",
       "      <th>oldpeak</th>\n",
       "      <th>ST_slope</th>\n",
       "      <th>target</th>\n",
       "    </tr>\n",
       "  </thead>\n",
       "  <tbody>\n",
       "    <tr>\n",
       "      <th>0</th>\n",
       "      <td>40</td>\n",
       "      <td>1</td>\n",
       "      <td>2</td>\n",
       "      <td>140</td>\n",
       "      <td>289</td>\n",
       "      <td>0</td>\n",
       "      <td>0</td>\n",
       "      <td>172</td>\n",
       "      <td>0</td>\n",
       "      <td>0.0</td>\n",
       "      <td>1</td>\n",
       "      <td>0</td>\n",
       "    </tr>\n",
       "    <tr>\n",
       "      <th>1</th>\n",
       "      <td>49</td>\n",
       "      <td>0</td>\n",
       "      <td>3</td>\n",
       "      <td>160</td>\n",
       "      <td>180</td>\n",
       "      <td>0</td>\n",
       "      <td>0</td>\n",
       "      <td>156</td>\n",
       "      <td>0</td>\n",
       "      <td>1.0</td>\n",
       "      <td>2</td>\n",
       "      <td>1</td>\n",
       "    </tr>\n",
       "    <tr>\n",
       "      <th>2</th>\n",
       "      <td>37</td>\n",
       "      <td>1</td>\n",
       "      <td>2</td>\n",
       "      <td>130</td>\n",
       "      <td>283</td>\n",
       "      <td>0</td>\n",
       "      <td>1</td>\n",
       "      <td>98</td>\n",
       "      <td>0</td>\n",
       "      <td>0.0</td>\n",
       "      <td>1</td>\n",
       "      <td>0</td>\n",
       "    </tr>\n",
       "    <tr>\n",
       "      <th>3</th>\n",
       "      <td>48</td>\n",
       "      <td>0</td>\n",
       "      <td>4</td>\n",
       "      <td>138</td>\n",
       "      <td>214</td>\n",
       "      <td>0</td>\n",
       "      <td>0</td>\n",
       "      <td>108</td>\n",
       "      <td>1</td>\n",
       "      <td>1.5</td>\n",
       "      <td>2</td>\n",
       "      <td>1</td>\n",
       "    </tr>\n",
       "    <tr>\n",
       "      <th>4</th>\n",
       "      <td>54</td>\n",
       "      <td>1</td>\n",
       "      <td>3</td>\n",
       "      <td>150</td>\n",
       "      <td>195</td>\n",
       "      <td>0</td>\n",
       "      <td>0</td>\n",
       "      <td>122</td>\n",
       "      <td>0</td>\n",
       "      <td>0.0</td>\n",
       "      <td>1</td>\n",
       "      <td>0</td>\n",
       "    </tr>\n",
       "  </tbody>\n",
       "</table>\n",
       "</div>"
      ],
      "text/plain": [
       "   age  sex  chest_pain_type  resting_bp_s  cholesterol  fasting_blood_sugar  \\\n",
       "0   40    1                2           140          289                    0   \n",
       "1   49    0                3           160          180                    0   \n",
       "2   37    1                2           130          283                    0   \n",
       "3   48    0                4           138          214                    0   \n",
       "4   54    1                3           150          195                    0   \n",
       "\n",
       "   resting_ecg  max_heart_rate  exercise_angina  oldpeak  ST_slope  target  \n",
       "0            0             172                0      0.0         1       0  \n",
       "1            0             156                0      1.0         2       1  \n",
       "2            1              98                0      0.0         1       0  \n",
       "3            0             108                1      1.5         2       1  \n",
       "4            0             122                0      0.0         1       0  "
      ]
     },
     "execution_count": 20,
     "metadata": {},
     "output_type": "execute_result"
    }
   ],
   "source": [
    "df.head()"
   ]
  },
  {
   "cell_type": "code",
   "execution_count": 21,
   "id": "454a3580",
   "metadata": {},
   "outputs": [
    {
     "data": {
      "text/plain": [
       "target\n",
       "1    508\n",
       "0    410\n",
       "Name: count, dtype: int64"
      ]
     },
     "execution_count": 21,
     "metadata": {},
     "output_type": "execute_result"
    }
   ],
   "source": [
    "df['target'].value_counts()"
   ]
  },
  {
   "cell_type": "code",
   "execution_count": 24,
   "id": "4ccbfb1e",
   "metadata": {},
   "outputs": [
    {
     "data": {
      "text/plain": [
       "',age,sex,chest_pain_type,resting_bp_s,cholesterol,fasting_blood_sugar,resting_ecg,max_heart_rate,exercise_angina,oldpeak,ST_slope,target\\r\\n0,40,1,2,140,289,0,0,172,0,0.0,1,0\\r\\n1,49,0,3,160,180,0,0,156,0,1.0,2,1\\r\\n2,37,1,2,130,283,0,1,98,0,0.0,1,0\\r\\n3,48,0,4,138,214,0,0,108,1,1.5,2,1\\r\\n4,54,1,3,150,195,0,0,122,0,0.0,1,0\\r\\n5,39,1,3,120,339,0,0,170,0,0.0,1,0\\r\\n6,45,0,2,130,237,0,0,170,0,0.0,1,0\\r\\n7,54,1,2,110,208,0,0,142,0,0.0,1,0\\r\\n8,37,1,4,140,207,0,0,130,1,1.5,2,1\\r\\n9,48,0,2,120,284,0,0,120,0,0.0,1,0\\r\\n10,37,0,3,130,211,0,0,142,0,0.0,1,0\\r\\n11,58,1,2,136,164,0,1,99,1,2.0,2,1\\r\\n12,39,1,2,120,204,0,0,145,0,0.0,1,0\\r\\n13,49,1,4,140,234,0,0,140,1,1.0,2,1\\r\\n14,42,0,3,115,211,0,1,137,0,0.0,1,0\\r\\n15,54,0,2,120,273,0,0,150,0,1.5,2,0\\r\\n16,38,1,4,110,196,0,0,166,0,0.0,2,1\\r\\n17,43,0,2,120,201,0,0,165,0,0.0,1,0\\r\\n18,60,1,4,100,248,0,0,125,0,1.0,2,1\\r\\n19,36,1,2,120,267,0,0,160,0,3.0,2,1\\r\\n20,43,0,1,100,223,0,0,142,0,0.0,1,0\\r\\n21,44,1,2,120,184,0,0,142,0,1.0,2,0\\r\\n22,49,0,2,124,201,0,0,164,0,0.0,1,0\\r\\n23,44,1,2,150,288,0,0,150,1,3.0,2,1\\r\\n24,40,1,3,130,215,0,0,138,0,0.0,1,0\\r\\n25,36,1,3,130,209,0,0,178,0,0.0,1,0\\r\\n26,53,1,4,124,260,0,1,112,1,3.0,2,0\\r\\n27,52,1,2,120,284,0,0,118,0,0.0,1,0\\r\\n28,53,0,2,113,468,0,0,127,0,0.0,1,0\\r\\n29,51,1,2,125,188,0,0,145,0,0.0,1,0\\r\\n30,53,1,3,145,518,0,0,130,0,0.0,2,1\\r\\n31,56,1,3,130,167,0,0,114,0,0.0,1,0\\r\\n32,54,1,4,125,224,0,0,122,0,2.0,2,1\\r\\n33,41,1,4,130,172,0,1,130,0,2.0,2,1\\r\\n34,43,0,2,150,186,0,0,154,0,0.0,1,0\\r\\n35,32,1,2,125,254,0,0,155,0,0.0,1,0\\r\\n36,65,1,4,140,306,1,0,87,1,1.5,2,1\\r\\n37,41,0,2,110,250,0,1,142,0,0.0,1,0\\r\\n38,48,0,2,120,177,1,1,148,0,0.0,1,0\\r\\n39,48,0,4,150,227,0,0,130,1,1.0,2,0\\r\\n40,54,0,2,150,230,0,0,130,0,0.0,1,0\\r\\n41,54,0,3,130,294,0,1,100,1,0.0,2,1\\r\\n42,35,1,2,150,264,0,0,168,0,0.0,1,0\\r\\n43,52,1,3,140,259,0,1,170,0,0.0,1,0\\r\\n44,43,1,4,120,175,0,0,120,1,1.0,2,1\\r\\n45,59,1,3,130,318,0,0,120,1,1.0,2,0\\r\\n46,37,1,4,120,223,0,0,168,0,0.0,1,0\\r\\n47,50,1,2,140,216,0,0,170,0,0.0,1,0\\r\\n48,36,1,3,112,340,0,0,184,0,1.0,2,0\\r\\n49,41,1,4,110,289,0,0,170,0,0.0,2,1\\r\\n50,50,1,4,130,233,0,0,121,1,2.0,2,1\\r\\n51,47,0,4,120,205,0,0,98,1,2.0,2,1\\r\\n52,45,1,2,140,224,1,0,122,0,0.0,1,0\\r\\n53,41,0,2,130,245,0,0,150,0,0.0,1,0\\r\\n54,52,0,4,130,180,0,0,140,1,1.5,2,0\\r\\n55,51,0,2,160,194,0,0,170,0,0.0,1,0\\r\\n56,31,1,4,120,270,0,0,153,1,1.5,2,1\\r\\n57,58,1,3,130,213,0,1,140,0,0.0,2,1\\r\\n58,54,1,4,150,365,0,1,134,0,1.0,1,0\\r\\n59,52,1,4,112,342,0,1,96,1,1.0,2,1\\r\\n60,49,1,2,100,253,0,0,174,0,0.0,1,0\\r\\n61,43,0,3,150,254,0,0,175,0,0.0,1,0\\r\\n62,45,1,4,140,224,0,0,144,0,0.0,1,0\\r\\n63,46,1,4,120,277,0,0,125,1,1.0,2,1\\r\\n64,50,0,2,110,202,0,0,145,0,0.0,1,0\\r\\n65,37,0,2,120,260,0,0,130,0,0.0,1,0\\r\\n66,45,0,4,132,297,0,0,144,0,0.0,1,0\\r\\n67,32,1,2,110,225,0,0,184,0,0.0,1,0\\r\\n68,52,1,4,160,246,0,1,82,1,4.0,2,1\\r\\n69,44,1,4,150,412,0,0,170,0,0.0,1,0\\r\\n70,57,1,2,140,265,0,1,145,1,1.0,2,1\\r\\n71,44,1,2,130,215,0,0,135,0,0.0,1,0\\r\\n72,52,1,4,120,182,0,0,150,0,0.0,2,1\\r\\n73,44,0,4,120,218,0,1,115,0,0.0,1,0\\r\\n74,55,1,4,140,268,0,0,128,1,1.5,2,1\\r\\n75,46,1,3,150,163,0,0,116,0,0.0,1,0\\r\\n76,32,1,4,118,529,0,0,130,0,0.0,2,1\\r\\n77,35,0,4,140,167,0,0,150,0,0.0,1,0\\r\\n78,52,1,2,140,100,0,0,138,1,0.0,1,0\\r\\n79,49,1,4,130,206,0,0,170,0,0.0,2,1\\r\\n80,55,1,3,110,277,0,0,160,0,0.0,1,0\\r\\n81,54,1,2,120,238,0,0,154,0,0.0,1,0\\r\\n82,63,1,4,150,223,0,0,115,0,0.0,2,1\\r\\n83,52,1,2,160,196,0,0,165,0,0.0,1,0\\r\\n84,56,1,4,150,213,1,0,125,1,1.0,2,1\\r\\n85,66,1,4,140,139,0,0,94,1,1.0,2,1\\r\\n86,65,1,4,170,263,1,0,112,1,2.0,2,1\\r\\n87,53,0,2,140,216,0,0,142,1,2.0,2,0\\r\\n88,43,1,1,120,291,0,1,155,0,0.0,2,1\\r\\n89,55,1,4,140,229,0,0,110,1,0.5,2,0\\r\\n90,49,0,2,110,208,0,0,160,0,0.0,1,0\\r\\n91,39,1,4,130,307,0,0,140,0,0.0,1,0\\r\\n92,52,0,2,120,210,0,0,148,0,0.0,1,0\\r\\n93,48,1,4,160,329,0,0,92,1,1.5,2,1\\r\\n94,39,0,3,110,182,0,1,180,0,0.0,1,0\\r\\n95,58,1,4,130,263,0,0,140,1,2.0,2,1\\r\\n96,43,1,2,142,207,0,0,138,0,0.0,1,0\\r\\n97,39,1,3,160,147,1,0,160,0,0.0,1,0\\r\\n98,56,1,4,120,85,0,0,140,0,0.0,1,0\\r\\n99,41,1,2,125,269,0,0,144,0,0.0,1,0\\r\\n100,65,1,4,130,275,0,1,115,1,1.0,2,1\\r\\n101,51,1,4,130,179,0,0,100,0,0.0,1,0\\r\\n102,40,0,4,150,392,0,0,130,0,2.0,2,1\\r\\n103,40,1,4,120,466,1,0,152,1,1.0,2,1\\r\\n104,46,1,4,118,186,0,0,124,0,0.0,2,1\\r\\n105,57,1,2,140,260,1,0,140,0,0.0,1,0\\r\\n106,48,0,4,120,254,0,1,110,0,0.0,1,0\\r\\n107,34,1,2,150,214,0,1,168,0,0.0,1,0\\r\\n108,50,1,4,140,129,0,0,135,0,0.0,1,0\\r\\n109,39,1,2,190,241,0,0,106,0,0.0,1,0\\r\\n110,59,0,2,130,188,0,0,124,0,1.0,2,0\\r\\n111,57,1,4,150,255,0,0,92,1,3.0,2,1\\r\\n112,47,1,4,140,276,1,0,125,1,0.0,1,0\\r\\n113,38,1,2,140,297,0,0,150,0,0.0,1,0\\r\\n114,49,0,3,130,207,0,1,135,0,0.0,1,0\\r\\n115,33,0,4,100,246,0,0,150,1,1.0,2,1\\r\\n116,38,1,4,120,282,0,0,170,0,0.0,2,1\\r\\n117,59,0,4,130,338,1,1,130,1,1.5,2,1\\r\\n118,35,0,1,120,160,0,1,185,0,0.0,1,0\\r\\n119,34,1,1,140,156,0,0,180,0,0.0,2,1\\r\\n120,47,0,3,135,248,1,0,170,0,0.0,2,1\\r\\n121,52,0,3,125,272,0,0,139,0,0.0,1,0\\r\\n122,46,1,4,110,240,0,1,140,0,0.0,1,0\\r\\n123,58,0,2,180,393,0,0,110,1,1.0,2,1\\r\\n124,58,1,2,130,230,0,0,150,0,0.0,1,0\\r\\n125,54,1,2,120,246,0,0,110,0,0.0,1,0\\r\\n126,34,0,2,130,161,0,0,190,0,0.0,1,0\\r\\n127,48,0,4,108,163,0,0,175,0,2.0,1,0\\r\\n128,54,0,2,120,230,1,0,140,0,0.0,1,0\\r\\n129,42,1,3,120,228,0,0,152,1,1.5,2,0\\r\\n130,38,1,3,145,292,0,0,130,0,0.0,1,0\\r\\n131,46,1,4,110,202,0,0,150,1,0.0,2,1\\r\\n132,56,1,4,170,388,0,1,122,1,2.0,2,1\\r\\n133,56,1,4,150,230,0,1,124,1,1.5,2,1\\r\\n134,61,0,4,130,294,0,1,120,1,1.0,2,0\\r\\n135,49,1,3,115,265,0,0,175,0,0.0,2,1\\r\\n136,43,0,2,120,215,0,1,175,0,0.0,1,0\\r\\n137,39,1,2,120,241,0,1,146,0,2.0,1,0\\r\\n138,54,1,4,140,166,0,0,118,1,0.0,2,1\\r\\n139,43,1,4,150,247,0,0,130,1,2.0,2,1\\r\\n140,52,1,4,160,331,0,0,94,1,2.5,2,1\\r\\n141,50,1,4,140,341,0,1,125,1,2.5,2,1\\r\\n142,47,1,4,160,291,0,1,158,1,3.0,2,1\\r\\n143,53,1,4,140,243,0,0,155,0,0.0,1,0\\r\\n144,56,0,2,120,279,0,0,150,0,1.0,2,1\\r\\n145,39,1,4,110,273,0,0,132,0,0.0,1,0\\r\\n146,42,1,2,120,198,0,0,155,0,0.0,1,0\\r\\n147,43,0,2,120,249,0,1,176,0,0.0,1,0\\r\\n148,50,1,2,120,168,0,0,160,0,0.0,1,0\\r\\n149,54,1,4,130,603,1,0,125,1,1.0,2,1\\r\\n150,39,1,2,130,215,0,0,120,0,0.0,1,0\\r\\n151,48,1,2,100,159,0,0,100,0,0.0,1,0\\r\\n152,40,1,2,130,275,0,0,150,0,0.0,1,0\\r\\n153,55,1,4,120,270,0,0,140,0,0.0,1,0\\r\\n154,41,1,2,120,291,0,1,160,0,0.0,1,0\\r\\n155,56,1,4,155,342,1,0,150,1,3.0,2,1\\r\\n156,38,1,4,110,190,0,0,150,1,1.0,2,1\\r\\n157,49,1,4,140,185,0,0,130,0,0.0,1,0\\r\\n158,44,1,4,130,290,0,0,100,1,2.0,2,1\\r\\n159,54,1,2,160,195,0,1,130,0,1.0,1,0\\r\\n160,59,1,4,140,264,1,2,119,1,0.0,2,1\\r\\n161,49,1,4,128,212,0,0,96,1,0.0,2,1\\r\\n162,47,1,2,160,263,0,0,174,0,0.0,1,0\\r\\n164,42,1,2,120,196,0,0,150,0,0.0,1,0\\r\\n165,52,0,2,140,225,0,0,140,0,0.0,1,0\\r\\n166,46,1,1,140,272,1,0,175,0,2.0,2,1\\r\\n167,50,1,4,140,231,0,1,140,1,5.0,2,1\\r\\n168,48,1,2,140,238,0,0,118,0,0.0,1,0\\r\\n169,58,1,4,135,222,0,0,100,0,0.0,1,0\\r\\n170,58,1,3,140,179,0,0,160,0,0.0,1,0\\r\\n171,29,1,2,120,243,0,0,160,0,0.0,1,0\\r\\n172,40,1,3,140,235,0,0,188,0,0.0,1,0\\r\\n173,53,1,2,140,320,0,0,162,0,0.0,1,0\\r\\n174,49,1,3,140,187,0,0,172,0,0.0,1,0\\r\\n175,52,1,4,140,266,0,0,134,1,2.0,2,1\\r\\n176,43,1,4,140,288,0,0,135,1,2.0,2,1\\r\\n177,54,1,4,140,216,0,0,105,0,1.5,2,1\\r\\n178,59,1,2,140,287,0,0,150,0,0.0,1,0\\r\\n179,37,1,3,130,194,0,0,150,0,0.0,1,0\\r\\n180,46,0,4,130,238,0,0,90,0,0.0,1,0\\r\\n181,52,1,4,130,225,0,0,120,1,2.0,2,1\\r\\n182,51,1,2,130,224,0,0,150,0,0.0,1,0\\r\\n183,52,1,4,140,404,0,0,124,1,2.0,2,1\\r\\n184,46,1,4,110,238,0,1,140,1,1.0,2,0\\r\\n185,54,0,2,160,312,0,0,130,0,0.0,1,0\\r\\n186,58,1,3,160,211,1,1,92,0,0.0,2,1\\r\\n187,58,1,2,130,251,0,0,110,0,0.0,1,0\\r\\n188,41,1,4,120,237,1,0,138,1,1.0,2,1\\r\\n189,50,0,4,120,328,0,0,110,1,1.0,2,0\\r\\n190,53,1,4,180,285,0,1,120,1,1.5,2,1\\r\\n191,46,1,4,180,280,0,1,120,0,0.0,1,0\\r\\n192,50,1,2,170,209,0,1,116,0,0.0,1,0\\r\\n193,48,1,2,130,245,0,0,160,0,0.0,1,0\\r\\n194,45,1,3,135,192,0,0,110,0,0.0,1,0\\r\\n195,41,0,2,125,184,0,0,180,0,0.0,1,0\\r\\n196,62,0,1,160,193,0,0,116,0,0.0,1,0\\r\\n197,49,1,4,120,297,0,0,132,0,1.0,2,0\\r\\n198,42,1,2,150,268,0,0,136,0,0.0,1,0\\r\\n199,53,1,4,120,246,0,0,116,1,0.0,2,1\\r\\n200,57,0,1,130,308,0,0,98,0,1.0,2,0\\r\\n201,47,1,1,110,249,0,0,150,0,0.0,1,0\\r\\n202,46,1,3,120,230,0,0,150,0,0.0,1,0\\r\\n203,42,1,3,160,147,0,0,146,0,0.0,1,0\\r\\n204,31,0,2,100,219,0,1,150,0,0.0,1,0\\r\\n205,56,1,2,130,184,0,0,100,0,0.0,1,0\\r\\n206,50,1,4,150,215,0,0,140,1,0.0,1,0\\r\\n207,35,1,2,120,308,0,2,180,0,0.0,1,0\\r\\n208,35,1,2,110,257,0,0,140,0,0.0,2,1\\r\\n209,28,1,2,130,132,0,2,185,0,0.0,1,0\\r\\n210,54,1,4,125,216,0,0,140,0,0.0,2,1\\r\\n211,48,1,4,106,263,1,0,110,0,0.0,2,1\\r\\n212,50,0,3,140,288,0,0,140,1,0.0,2,1\\r\\n213,56,1,3,130,276,0,0,128,1,1.0,1,0\\r\\n214,56,0,3,130,219,0,1,164,0,0.0,1,0\\r\\n215,47,1,4,150,226,0,0,98,1,1.5,2,1\\r\\n216,30,0,1,170,237,0,1,170,0,0.0,1,0\\r\\n217,39,1,4,110,280,0,0,150,0,0.0,2,1\\r\\n218,54,1,3,120,217,0,0,137,0,0.0,1,0\\r\\n219,55,1,2,140,196,0,0,150,0,0.0,1,0\\r\\n220,29,1,2,140,263,0,0,170,0,0.0,1,0\\r\\n221,46,1,4,130,222,0,0,112,0,0.0,2,1\\r\\n222,51,0,4,160,303,0,0,150,1,1.0,2,1\\r\\n223,48,0,3,120,195,0,0,125,0,0.0,1,0\\r\\n224,33,1,3,120,298,0,0,185,0,0.0,1,0\\r\\n225,55,1,2,120,256,1,0,137,0,0.0,1,0\\r\\n226,50,1,4,145,264,0,0,150,0,0.0,2,1\\r\\n227,53,1,3,120,195,0,0,140,0,0.0,1,0\\r\\n228,38,1,4,92,117,0,0,134,1,2.5,2,1\\r\\n229,41,1,2,120,295,0,0,170,0,0.0,1,0\\r\\n230,37,0,4,130,173,0,1,184,0,0.0,1,0\\r\\n231,37,1,4,130,315,0,0,158,0,0.0,1,0\\r\\n232,40,1,3,130,281,0,0,167,0,0.0,1,0\\r\\n233,38,0,2,120,275,0,0,129,0,0.0,1,0\\r\\n234,41,1,4,112,250,0,0,142,0,0.0,1,0\\r\\n235,54,0,2,140,309,0,1,140,0,0.0,1,0\\r\\n236,39,1,2,120,200,0,0,160,1,1.0,2,0\\r\\n237,41,1,4,120,336,0,0,118,1,3.0,2,1\\r\\n238,55,1,1,140,295,0,0,136,0,0.0,2,1\\r\\n239,48,1,4,160,355,0,0,99,1,2.0,2,1\\r\\n240,48,1,4,160,193,0,0,102,1,3.0,2,1\\r\\n241,55,1,2,145,326,0,0,155,0,0.0,1,0\\r\\n242,54,1,4,200,198,0,0,142,1,2.0,2,1\\r\\n243,55,1,2,160,292,1,0,143,1,2.0,2,1\\r\\n244,43,0,2,120,266,0,0,118,0,0.0,1,0\\r\\n245,48,1,4,160,268,0,0,103,1,1.0,2,1\\r\\n246,54,1,1,120,171,0,0,137,0,2.0,1,0\\r\\n247,54,1,3,120,237,0,0,150,1,1.5,2,1\\r\\n248,48,1,4,122,275,1,1,150,1,2.0,3,1\\r\\n249,45,1,4,130,219,0,1,130,1,1.0,2,1\\r\\n250,49,1,4,130,341,0,0,120,1,1.0,2,1\\r\\n251,44,1,4,135,491,0,0,135,0,0.0,2,1\\r\\n252,48,1,4,120,260,0,0,115,0,2.0,2,1\\r\\n253,61,1,4,125,292,0,1,115,1,0.0,1,0\\r\\n254,62,1,2,140,271,0,0,152,0,1.0,1,0\\r\\n255,55,1,4,145,248,0,0,96,1,2.0,2,1\\r\\n256,53,0,3,120,274,0,0,130,0,0.0,1,0\\r\\n257,55,0,2,130,394,0,2,150,0,0.0,1,0\\r\\n258,36,1,3,150,160,0,0,172,0,0.0,1,0\\r\\n259,51,0,3,150,200,0,0,120,0,0.5,1,0\\r\\n260,55,0,2,122,320,0,0,155,0,0.0,1,0\\r\\n261,46,1,2,140,275,0,0,165,1,0.0,1,0\\r\\n262,54,0,2,120,221,0,0,138,0,1.0,1,0\\r\\n263,46,1,4,120,231,0,0,115,1,0.0,2,1\\r\\n264,59,1,4,130,126,0,0,125,0,0.0,2,1\\r\\n265,47,1,3,140,193,0,0,145,1,1.0,2,1\\r\\n266,54,1,2,160,305,0,0,175,0,0.0,1,0\\r\\n267,52,1,4,130,298,0,0,110,1,1.0,2,1\\r\\n268,34,1,2,98,220,0,0,150,0,0.0,1,0\\r\\n269,54,1,4,130,242,0,0,91,1,1.0,2,1\\r\\n270,47,0,3,130,235,0,0,145,0,2.0,2,0\\r\\n271,45,1,4,120,225,0,0,140,0,0.0,1,0\\r\\n272,32,0,2,105,198,0,0,165,0,0.0,1,0\\r\\n273,55,1,4,140,201,0,0,130,1,3.0,2,1\\r\\n274,55,1,3,120,220,0,2,134,0,0.0,1,0\\r\\n275,45,0,2,180,295,0,0,180,0,0.0,1,0\\r\\n276,59,1,3,180,213,0,0,100,0,0.0,1,0\\r\\n277,51,1,3,135,160,0,0,150,0,2.0,2,1\\r\\n278,52,1,4,170,223,0,0,126,1,1.5,2,1\\r\\n279,57,0,4,180,347,0,1,126,1,0.8,2,0\\r\\n280,54,0,2,130,253,0,1,155,0,0.0,1,0\\r\\n281,60,1,3,120,246,0,2,135,0,0.0,1,0\\r\\n282,49,1,4,150,222,0,0,122,0,2.0,2,1\\r\\n283,51,0,3,130,220,0,0,160,1,2.0,1,0\\r\\n284,55,0,2,110,344,0,1,160,0,0.0,1,0\\r\\n285,42,1,4,140,358,0,0,170,0,0.0,1,0\\r\\n286,51,0,3,110,190,0,0,120,0,0.0,1,0\\r\\n287,59,1,4,140,169,0,0,140,0,0.0,1,0\\r\\n288,53,1,2,120,181,0,0,132,0,0.0,1,0\\r\\n289,48,0,2,133,308,0,1,156,0,2.0,1,0\\r\\n290,36,1,2,120,166,0,0,180,0,0.0,1,0\\r\\n291,48,1,3,110,211,0,0,138,0,0.0,1,0\\r\\n292,47,0,2,140,257,0,0,135,0,1.0,1,0\\r\\n293,53,1,4,130,182,0,0,148,0,0.0,1,0\\r\\n294,65,1,4,115,0,0,0,93,1,0.0,2,1\\r\\n295,32,1,1,95,0,1,0,127,0,0.7,1,1\\r\\n296,61,1,4,105,0,1,0,110,1,1.5,1,1\\r\\n297,50,1,4,145,0,1,0,139,1,0.7,2,1\\r\\n298,57,1,4,110,0,1,1,131,1,1.4,1,1\\r\\n299,51,1,4,110,0,1,0,92,0,0.0,2,1\\r\\n300,47,1,4,110,0,1,1,149,0,2.1,1,1\\r\\n301,60,1,4,160,0,1,0,149,0,0.4,2,1\\r\\n302,55,1,2,140,0,0,1,150,0,0.2,1,0\\r\\n303,53,1,4,125,0,1,0,120,0,1.5,1,1\\r\\n304,62,0,4,120,0,1,1,123,1,1.7,3,1\\r\\n305,51,1,4,95,0,1,0,126,0,2.2,2,1\\r\\n306,51,0,4,120,0,1,0,127,1,1.5,1,1\\r\\n307,55,1,4,115,0,1,0,155,0,0.1,2,1\\r\\n308,53,1,2,130,0,0,1,120,0,0.7,3,0\\r\\n309,58,1,4,115,0,1,0,138,0,0.5,1,1\\r\\n310,57,1,4,95,0,1,0,182,0,0.7,3,1\\r\\n311,65,1,4,155,0,0,0,154,0,1.0,1,0\\r\\n312,60,1,4,125,0,1,0,110,0,0.1,1,1\\r\\n313,41,1,4,125,0,1,0,176,0,1.6,1,1\\r\\n314,34,1,4,115,0,1,0,154,0,0.2,1,1\\r\\n315,53,1,4,80,0,0,0,141,1,2.0,3,0\\r\\n316,74,1,2,145,0,1,1,123,0,1.3,1,1\\r\\n317,57,1,3,105,0,1,0,148,0,0.3,2,1\\r\\n318,56,1,4,140,0,1,0,121,1,1.8,1,1\\r\\n319,61,1,4,130,0,1,0,77,0,2.5,2,1\\r\\n320,68,1,4,145,0,1,0,136,0,1.8,1,1\\r\\n321,59,1,3,125,0,1,0,175,0,2.6,2,1\\r\\n322,63,1,4,100,0,1,0,109,0,-0.9,2,1\\r\\n323,38,0,4,105,0,1,0,166,0,2.8,1,1\\r\\n324,62,1,4,115,0,1,0,128,1,2.5,3,1\\r\\n325,46,1,4,100,0,1,1,133,0,-2.6,2,1\\r\\n326,42,1,4,105,0,1,0,128,1,-1.5,3,1\\r\\n327,45,1,3,110,0,0,0,138,0,-0.1,1,0\\r\\n328,59,1,4,125,0,1,0,119,1,0.9,1,1\\r\\n329,52,1,4,95,0,1,0,82,1,0.8,2,1\\r\\n330,60,1,4,130,0,1,1,130,1,1.1,3,1\\r\\n331,60,1,3,115,0,1,0,143,0,2.4,1,1\\r\\n332,56,1,4,115,0,1,1,82,0,-1.0,1,1\\r\\n333,38,1,3,100,0,0,0,179,0,-1.1,1,0\\r\\n334,40,1,4,95,0,1,1,144,0,0.0,1,1\\r\\n335,51,1,4,130,0,1,0,170,0,-0.7,1,1\\r\\n336,62,1,1,120,0,1,2,134,0,-0.8,2,1\\r\\n337,72,1,3,160,0,0,2,114,0,1.6,2,0\\r\\n338,63,1,4,150,0,1,1,154,0,3.7,1,1\\r\\n339,63,1,4,140,0,1,2,149,0,2.0,1,1\\r\\n340,64,0,4,95,0,1,0,145,0,1.1,3,1\\r\\n341,43,1,4,100,0,1,0,122,0,1.5,3,1\\r\\n342,64,1,4,110,0,1,0,114,1,1.3,3,1\\r\\n343,61,1,4,110,0,1,0,113,0,1.4,2,1\\r\\n344,52,1,4,130,0,1,0,120,0,0.0,2,1\\r\\n345,51,1,4,120,0,1,0,104,0,0.0,2,1\\r\\n346,69,1,4,135,0,0,0,130,0,0.0,2,1\\r\\n347,59,1,4,120,0,0,0,115,0,0.0,2,1\\r\\n348,48,1,4,115,0,1,0,128,0,0.0,2,1\\r\\n349,69,1,4,137,0,0,1,104,1,1.6,2,1\\r\\n350,36,1,4,110,0,1,0,125,1,1.0,2,1\\r\\n351,53,1,4,120,0,1,0,120,0,0.0,2,1\\r\\n352,43,1,4,140,0,0,1,140,1,0.5,1,1\\r\\n353,56,1,4,120,0,0,1,100,1,-1.0,3,1\\r\\n354,58,1,4,130,0,0,1,100,1,1.0,2,1\\r\\n355,55,1,4,120,0,0,1,92,0,0.3,1,1\\r\\n356,67,1,1,145,0,0,2,125,0,0.0,2,1\\r\\n357,46,1,4,115,0,0,0,113,1,1.5,2,1\\r\\n358,53,1,2,120,0,0,0,95,0,0.0,2,1\\r\\n359,38,1,3,115,0,0,0,128,1,0.0,2,1\\r\\n360,53,1,3,105,0,0,0,115,0,0.0,2,1\\r\\n361,62,1,3,160,0,0,0,72,1,0.0,2,1\\r\\n362,47,1,4,160,0,0,0,124,1,0.0,2,1\\r\\n363,56,1,3,155,0,0,1,99,0,0.0,2,1\\r\\n364,56,1,4,120,0,0,1,148,0,0.0,2,1\\r\\n365,56,1,3,120,0,0,0,97,0,0.0,2,0\\r\\n366,64,0,4,200,0,0,0,140,1,1.0,2,1\\r\\n367,61,1,4,150,0,0,0,117,1,2.0,2,1\\r\\n368,68,1,4,135,0,0,1,120,1,0.0,1,1\\r\\n369,57,1,4,140,0,0,0,120,1,2.0,2,1\\r\\n370,63,1,4,150,0,0,0,86,1,2.0,2,1\\r\\n371,60,1,4,135,0,0,0,63,1,0.5,1,1\\r\\n372,66,1,4,150,0,0,0,108,1,2.0,2,1\\r\\n373,63,1,4,185,0,0,0,98,1,0.0,1,1\\r\\n374,59,1,4,135,0,0,0,115,1,1.0,2,1\\r\\n375,61,1,4,125,0,0,0,105,1,0.0,3,1\\r\\n376,73,0,3,160,0,0,1,121,0,0.0,1,1\\r\\n377,47,1,3,155,0,0,0,118,1,1.0,2,1\\r\\n378,65,1,4,160,0,1,1,122,0,1.2,2,1\\r\\n379,70,1,4,140,0,1,0,157,1,2.0,2,1\\r\\n380,50,1,4,120,0,0,1,156,1,0.0,1,1\\r\\n381,60,1,4,160,0,0,1,99,1,0.5,2,1\\r\\n382,50,1,4,115,0,0,0,120,1,0.5,2,1\\r\\n383,43,1,4,115,0,0,0,145,1,2.0,2,1\\r\\n384,38,0,4,110,0,0,0,156,0,0.0,2,1\\r\\n385,54,1,4,120,0,0,0,155,0,0.0,2,1\\r\\n386,61,1,4,150,0,0,0,105,1,0.0,2,1\\r\\n387,42,1,4,145,0,0,0,99,1,0.0,2,1\\r\\n388,53,1,4,130,0,0,2,135,1,1.0,2,1\\r\\n389,55,1,4,140,0,0,0,83,0,0.0,2,1\\r\\n390,61,1,4,160,0,1,1,145,0,1.0,2,1\\r\\n391,51,1,4,140,0,0,0,60,0,0.0,2,1\\r\\n392,70,1,4,115,0,0,1,92,1,0.0,2,1\\r\\n393,61,1,4,130,0,0,2,115,0,0.0,2,1\\r\\n394,38,1,4,150,0,1,0,120,1,0.7,2,1\\r\\n395,57,1,4,160,0,1,0,98,1,2.0,2,1\\r\\n396,38,1,4,135,0,1,0,150,0,0.0,2,1\\r\\n397,62,0,1,140,0,1,0,143,0,0.0,2,1\\r\\n398,58,1,4,170,0,1,1,105,1,0.0,2,1\\r\\n399,52,1,4,165,0,1,0,122,1,1.0,1,1\\r\\n400,61,1,3,200,0,1,1,70,0,0.0,2,1\\r\\n401,50,0,4,160,0,1,0,110,0,0.0,2,1\\r\\n402,51,1,4,130,0,1,1,163,0,0.0,2,1\\r\\n403,65,1,4,145,0,1,1,67,0,0.7,2,1\\r\\n404,52,1,4,135,0,1,0,128,1,2.0,2,1\\r\\n405,47,1,3,110,0,1,0,120,1,0.0,2,1\\r\\n406,35,1,4,120,0,1,0,130,1,1.2,2,1\\r\\n407,57,1,4,140,0,1,0,100,1,0.0,2,1\\r\\n408,62,1,4,115,0,1,0,72,1,-0.5,2,1\\r\\n409,59,1,4,110,0,1,0,94,0,0.0,2,1\\r\\n410,53,1,3,160,0,1,2,122,1,0.0,2,1\\r\\n411,62,1,4,150,0,1,1,78,0,2.0,2,1\\r\\n412,54,1,4,180,0,1,0,150,0,1.5,2,1\\r\\n413,56,1,4,125,0,1,0,103,1,1.0,2,1\\r\\n414,56,1,3,125,0,1,0,98,0,-2.0,2,1\\r\\n415,54,1,4,130,0,1,0,110,1,3.0,2,1\\r\\n416,66,0,4,155,0,1,0,90,0,0.0,2,1\\r\\n417,63,1,4,140,260,0,1,112,1,3.0,2,1\\r\\n418,44,1,4,130,209,0,1,127,0,0.0,1,0\\r\\n419,60,1,4,132,218,0,1,140,1,1.5,3,1\\r\\n420,55,1,4,142,228,0,1,149,1,2.5,1,1\\r\\n421,66,1,3,110,213,1,2,99,1,1.3,2,0\\r\\n422,66,1,3,120,0,0,1,120,0,-0.5,1,0\\r\\n423,65,1,4,150,236,1,1,105,1,0.0,2,1\\r\\n424,60,1,3,180,0,0,1,140,1,1.5,2,0\\r\\n425,60,1,3,120,0,1,0,141,1,2.0,1,1\\r\\n426,60,1,2,160,267,1,1,157,0,0.5,2,1\\r\\n427,56,1,2,126,166,0,1,140,0,0.0,1,0\\r\\n428,59,1,4,140,0,0,1,117,1,1.0,2,1\\r\\n429,62,1,4,110,0,0,0,120,1,0.5,2,1\\r\\n430,63,1,3,133,0,0,2,120,1,1.0,2,1\\r\\n431,57,1,4,128,0,1,1,148,1,1.0,2,1\\r\\n432,62,1,4,120,220,0,1,86,0,0.0,1,0\\r\\n433,63,1,4,170,177,0,0,84,1,2.5,3,1\\r\\n434,46,1,4,110,236,0,0,125,1,2.0,2,1\\r\\n435,63,1,4,126,0,0,1,120,0,1.5,3,0\\r\\n436,60,1,4,152,0,0,1,118,1,0.0,1,0\\r\\n437,58,1,4,116,0,0,0,124,0,1.0,1,1\\r\\n438,64,1,4,120,0,1,1,106,0,2.0,2,1\\r\\n439,63,1,3,130,0,0,1,111,1,0.0,2,1\\r\\n440,74,1,3,138,0,0,0,116,0,0.2,1,0\\r\\n441,52,1,3,128,0,0,1,180,0,3.0,1,1\\r\\n442,69,1,4,130,0,1,1,129,0,1.0,2,1\\r\\n443,51,1,4,128,0,1,1,125,1,1.2,2,1\\r\\n444,60,1,4,130,186,1,1,140,1,0.5,2,1\\r\\n445,56,1,4,120,100,0,0,120,1,1.5,2,1\\r\\n446,55,1,3,136,228,0,1,124,1,1.6,2,1\\r\\n447,54,1,4,130,0,0,1,117,1,1.4,2,1\\r\\n448,77,1,4,124,171,0,1,110,1,2.0,1,1\\r\\n449,63,1,4,160,230,1,0,105,1,1.0,2,1\\r\\n450,55,1,3,0,0,0,0,155,0,1.5,2,1\\r\\n451,52,1,3,122,0,0,0,110,1,2.0,3,1\\r\\n452,64,1,4,144,0,0,1,122,1,1.0,2,1\\r\\n453,60,1,4,140,281,0,1,118,1,1.5,2,1\\r\\n454,60,1,4,120,0,0,0,133,1,2.0,1,0\\r\\n455,58,1,4,136,203,1,0,123,1,1.2,2,1\\r\\n456,59,1,4,154,0,0,1,131,1,1.5,1,0\\r\\n457,61,1,3,120,0,0,0,80,1,0.0,2,1\\r\\n458,40,1,4,125,0,1,0,165,0,0.0,2,1\\r\\n459,61,1,4,134,0,1,1,86,0,1.5,2,1\\r\\n460,41,1,4,104,0,0,1,111,0,0.0,1,0\\r\\n461,57,1,4,139,277,1,1,118,1,1.9,2,1\\r\\n462,63,1,4,136,0,0,0,84,1,0.0,2,1\\r\\n463,59,1,4,122,233,0,0,117,1,1.3,3,1\\r\\n464,51,1,4,128,0,0,0,107,0,0.0,1,0\\r\\n465,59,1,3,131,0,0,0,128,1,2.0,3,1\\r\\n466,42,1,3,134,240,0,0,160,0,0.0,1,0\\r\\n467,55,1,3,120,0,0,1,125,1,2.5,2,1\\r\\n468,63,0,2,132,0,0,0,130,0,0.1,1,0\\r\\n469,62,1,4,152,153,0,1,97,1,1.6,1,1\\r\\n470,56,1,2,124,224,1,0,161,0,2.0,2,0\\r\\n471,53,1,4,126,0,0,0,106,0,0.0,2,1\\r\\n472,68,1,4,138,0,0,0,130,1,3.0,2,1\\r\\n473,53,1,4,154,0,1,1,140,1,1.5,2,1\\r\\n474,60,1,3,141,316,1,1,122,1,1.7,2,1\\r\\n475,62,1,2,131,0,0,0,130,0,0.1,1,0\\r\\n476,59,1,4,178,0,1,2,120,1,0.0,2,1\\r\\n477,51,1,4,132,218,1,2,139,0,0.1,1,0\\r\\n478,61,1,4,110,0,1,0,108,1,2.0,3,1\\r\\n479,57,1,4,130,311,1,1,148,1,2.0,2,1\\r\\n480,56,1,3,170,0,0,2,123,1,2.5,2,1\\r\\n481,58,1,2,126,0,1,0,110,1,2.0,2,1\\r\\n482,69,1,3,140,0,1,1,118,0,2.5,3,1\\r\\n483,67,1,1,142,270,1,0,125,0,2.5,1,1\\r\\n484,58,1,4,120,0,0,2,106,1,1.5,3,1\\r\\n485,65,1,4,134,0,0,0,112,1,1.1,2,1\\r\\n486,63,1,2,139,217,1,1,128,1,1.2,2,1\\r\\n487,55,1,2,110,214,1,1,180,0,0.4,1,0\\r\\n488,57,1,4,140,214,0,1,144,1,2.0,2,1\\r\\n489,65,1,1,140,252,0,0,135,0,0.3,1,0\\r\\n490,54,1,4,136,220,0,0,140,1,3.0,2,1\\r\\n491,72,1,3,120,214,0,0,102,1,1.0,2,1\\r\\n492,75,1,4,170,203,1,1,108,0,0.0,2,1\\r\\n493,49,1,1,130,0,0,1,145,0,3.0,2,1\\r\\n494,51,1,3,137,339,0,0,127,1,1.7,2,1\\r\\n495,60,1,4,142,216,0,0,110,1,2.5,2,1\\r\\n496,64,0,4,142,276,0,0,140,1,1.0,2,1\\r\\n497,58,1,4,132,458,1,0,69,0,1.0,3,0\\r\\n498,61,1,4,146,241,0,0,148,1,3.0,3,1\\r\\n499,67,1,4,160,384,1,1,130,1,0.0,2,1\\r\\n500,62,1,4,135,297,0,0,130,1,1.0,2,1\\r\\n501,65,1,4,136,248,0,0,140,1,4.0,3,1\\r\\n502,63,1,4,130,308,0,0,138,1,2.0,2,1\\r\\n503,69,1,4,140,208,0,1,140,1,2.0,2,1\\r\\n504,51,1,4,132,227,1,1,138,0,0.2,1,0\\r\\n505,62,1,4,158,210,1,0,112,1,3.0,3,1\\r\\n506,55,1,3,136,245,1,1,131,1,1.2,2,1\\r\\n507,75,1,4,136,225,0,0,112,1,3.0,2,1\\r\\n508,40,1,3,106,240,0,0,80,1,0.0,1,0\\r\\n509,67,1,4,120,0,1,0,150,0,1.5,3,1\\r\\n510,58,1,4,110,198,0,0,110,0,0.0,2,1\\r\\n511,60,1,4,136,195,0,0,126,0,0.3,1,0\\r\\n512,63,1,4,160,267,1,1,88,1,2.0,2,1\\r\\n513,35,1,3,123,161,0,1,153,0,-0.1,1,0\\r\\n514,62,1,1,112,258,0,1,150,1,1.3,2,1\\r\\n515,43,1,4,122,0,0,0,120,0,0.5,1,1\\r\\n516,63,1,3,130,0,1,1,160,0,3.0,2,0\\r\\n517,68,1,3,150,195,1,0,132,0,0.0,0,1\\r\\n518,65,1,4,150,235,0,0,120,1,1.5,2,1\\r\\n519,48,1,3,102,0,1,1,110,1,1.0,3,1\\r\\n520,63,1,4,96,305,0,1,121,1,1.0,1,1\\r\\n521,64,1,4,130,223,0,1,128,0,0.5,2,0\\r\\n522,61,1,4,120,282,0,1,135,1,4.0,3,1\\r\\n523,50,1,4,144,349,0,2,120,1,1.0,1,1\\r\\n524,59,1,4,124,160,0,0,117,1,1.0,2,1\\r\\n525,55,1,4,150,160,0,1,150,0,0.0,1,0\\r\\n526,45,1,3,130,236,0,0,144,0,0.1,1,0\\r\\n527,65,1,4,144,312,0,2,113,1,1.7,2,1\\r\\n528,61,1,2,139,283,0,0,135,0,0.3,1,0\\r\\n529,49,1,3,131,142,0,0,127,1,1.5,2,1\\r\\n530,72,1,4,143,211,0,0,109,1,1.4,2,1\\r\\n531,50,1,4,133,218,0,0,128,1,1.1,2,1\\r\\n532,64,1,4,143,306,1,1,115,1,1.8,2,1\\r\\n533,55,1,4,116,186,1,1,102,0,0.0,2,1\\r\\n534,63,1,4,110,252,0,1,140,1,2.0,2,1\\r\\n535,59,1,4,125,222,0,0,135,1,2.5,3,1\\r\\n536,56,1,4,130,0,0,2,122,1,1.0,2,1\\r\\n537,62,1,3,133,0,1,1,119,1,1.2,2,1\\r\\n538,74,1,4,150,258,1,1,130,1,4.0,3,1\\r\\n539,54,1,4,130,202,1,0,112,1,2.0,2,1\\r\\n540,57,1,4,110,197,0,2,100,0,0.0,1,0\\r\\n541,62,1,3,138,204,0,1,122,1,1.2,2,1\\r\\n542,76,1,3,104,113,0,2,120,0,3.5,3,1\\r\\n543,54,0,4,138,274,0,0,105,1,1.5,2,1\\r\\n544,70,1,4,170,192,0,1,129,1,3.0,3,1\\r\\n545,61,0,2,140,298,1,0,120,1,0.0,1,0\\r\\n546,48,1,4,132,272,0,1,139,0,0.2,1,0\\r\\n547,48,1,3,132,220,1,1,162,0,0.0,2,1\\r\\n548,61,1,1,142,200,1,1,100,0,1.5,3,1\\r\\n549,66,1,4,112,261,0,0,140,0,1.5,1,1\\r\\n550,68,1,1,139,181,1,1,135,0,0.2,1,0\\r\\n551,55,1,4,172,260,0,0,73,0,2.0,2,1\\r\\n552,62,1,3,120,220,0,2,86,0,0.0,1,0\\r\\n553,71,1,3,144,221,0,0,108,1,1.8,2,1\\r\\n554,74,1,1,145,216,1,0,116,1,1.8,2,1\\r\\n555,53,1,3,155,175,1,1,160,0,0.3,1,0\\r\\n556,58,1,3,150,219,0,1,118,1,0.0,2,1\\r\\n557,75,1,4,160,310,1,0,112,1,2.0,3,0\\r\\n558,56,1,3,137,208,1,1,122,1,1.8,2,1\\r\\n559,58,1,3,137,232,0,1,124,1,1.4,2,1\\r\\n560,64,1,4,134,273,0,0,102,1,4.0,3,1\\r\\n561,54,1,3,133,203,0,1,137,0,0.2,1,0\\r\\n562,54,1,2,132,182,0,1,141,0,0.1,1,0\\r\\n563,59,1,4,140,274,0,0,154,1,2.0,2,0\\r\\n564,55,1,4,135,204,1,1,126,1,1.1,2,1\\r\\n565,57,1,4,144,270,1,1,160,1,2.0,2,1\\r\\n566,61,1,4,141,292,0,1,115,1,1.7,2,1\\r\\n567,41,1,4,150,171,0,0,128,1,1.5,2,0\\r\\n568,71,1,4,130,221,0,1,115,1,0.0,2,1\\r\\n569,38,1,4,110,289,0,0,105,1,1.5,3,1\\r\\n570,55,1,4,158,217,0,0,110,1,2.5,2,1\\r\\n571,56,1,4,128,223,0,1,119,1,2.0,3,1\\r\\n572,69,1,4,140,110,1,0,109,1,1.5,2,1\\r\\n573,64,1,4,150,193,0,1,135,1,0.5,2,1\\r\\n574,72,1,4,160,123,1,2,130,0,1.5,2,1\\r\\n575,69,1,4,142,210,1,1,112,1,1.5,2,1\\r\\n576,56,1,4,137,282,1,0,126,1,1.2,2,1\\r\\n577,62,1,4,139,170,0,1,120,1,3.0,2,1\\r\\n578,67,1,4,146,369,0,0,110,1,1.9,2,1\\r\\n579,57,1,4,156,173,0,2,119,1,3.0,3,1\\r\\n580,69,1,4,145,289,1,1,110,1,1.8,2,1\\r\\n581,51,1,4,131,152,1,2,130,1,1.0,2,1\\r\\n582,48,1,4,140,208,0,0,159,1,1.5,1,1\\r\\n583,69,1,4,122,216,1,2,84,1,0.0,2,1\\r\\n584,69,1,3,142,271,0,2,126,0,0.3,1,0\\r\\n585,64,1,4,141,244,1,1,116,1,1.5,2,1\\r\\n586,57,1,2,180,285,1,1,120,0,0.8,2,1\\r\\n587,53,1,4,124,243,0,0,122,1,2.0,2,1\\r\\n588,37,1,3,118,240,0,2,165,0,1.0,2,0\\r\\n589,67,1,4,140,219,0,1,122,1,2.0,2,1\\r\\n590,74,1,3,140,237,1,0,94,0,0.0,2,1\\r\\n591,63,1,2,136,165,0,1,133,0,0.2,1,0\\r\\n592,58,1,4,100,213,0,1,110,0,0.0,1,0\\r\\n593,61,1,4,190,287,1,2,150,1,2.0,3,1\\r\\n594,64,1,4,130,258,1,2,130,0,0.0,2,1\\r\\n595,58,1,4,160,256,1,2,113,1,1.0,1,1\\r\\n596,60,1,4,130,186,1,2,140,1,0.5,2,1\\r\\n597,57,1,4,122,264,0,2,100,0,0.0,2,1\\r\\n598,55,1,3,133,185,0,1,136,0,0.2,1,0\\r\\n599,55,1,4,120,226,0,2,127,1,1.7,3,1\\r\\n600,56,1,4,130,203,1,0,98,0,1.5,2,1\\r\\n601,57,1,4,130,207,0,1,96,1,1.0,2,0\\r\\n602,61,1,3,140,284,0,0,123,1,1.3,2,1\\r\\n603,61,1,3,120,337,0,0,98,1,0.0,2,1\\r\\n605,74,1,4,155,310,0,0,112,1,1.5,3,1\\r\\n606,68,1,3,134,254,1,0,151,1,0.0,1,0\\r\\n607,51,0,4,114,258,1,2,96,0,1.0,1,0\\r\\n608,62,1,4,160,254,1,1,108,1,3.0,2,1\\r\\n609,53,1,4,144,300,1,1,128,1,1.5,2,1\\r\\n610,62,1,4,158,170,0,1,138,1,0.0,2,1\\r\\n611,46,1,4,134,310,0,0,126,0,0.0,2,1\\r\\n612,54,0,4,127,333,1,1,154,0,0.0,2,1\\r\\n613,62,1,1,135,139,0,1,137,0,0.2,1,0\\r\\n614,55,1,4,122,223,1,1,100,0,0.0,2,1\\r\\n615,58,1,4,140,385,1,2,135,0,0.3,1,0\\r\\n616,62,1,2,120,254,0,2,93,1,0.0,2,1\\r\\n617,70,1,4,130,322,0,2,109,0,2.4,2,1\\r\\n618,67,0,3,115,564,0,2,160,0,1.6,2,0\\r\\n619,57,1,2,124,261,0,0,141,0,0.3,1,1\\r\\n620,64,1,4,128,263,0,0,105,1,0.2,2,0\\r\\n621,74,0,2,120,269,0,2,121,1,0.2,1,0\\r\\n622,65,1,4,120,177,0,0,140,0,0.4,1,0\\r\\n623,56,1,3,130,256,1,2,142,1,0.6,2,1\\r\\n624,59,1,4,110,239,0,2,142,1,1.2,2,1\\r\\n625,60,1,4,140,293,0,2,170,0,1.2,2,1\\r\\n626,63,0,4,150,407,0,2,154,0,4.0,2,1\\r\\n627,59,1,4,135,234,0,0,161,0,0.5,2,0\\r\\n628,53,1,4,142,226,0,2,111,1,0.0,1,0\\r\\n629,44,1,3,140,235,0,2,180,0,0.0,1,0\\r\\n630,61,1,1,134,234,0,0,145,0,2.6,2,1\\r\\n631,57,0,4,128,303,0,2,159,0,0.0,1,0\\r\\n632,71,0,4,112,149,0,0,125,0,1.6,2,0\\r\\n633,46,1,4,140,311,0,0,120,1,1.8,2,1\\r\\n634,53,1,4,140,203,1,2,155,1,3.1,3,1\\r\\n635,64,1,1,110,211,0,2,144,1,1.8,2,0\\r\\n636,40,1,1,140,199,0,0,178,1,1.4,1,0\\r\\n637,67,1,4,120,229,0,2,129,1,2.6,2,1\\r\\n638,48,1,2,130,245,0,2,180,0,0.2,2,0\\r\\n639,43,1,4,115,303,0,0,181,0,1.2,2,0\\r\\n640,47,1,4,112,204,0,0,143,0,0.1,1,0\\r\\n641,54,0,2,132,288,1,2,159,1,0.0,1,0\\r\\n642,48,0,3,130,275,0,0,139,0,0.2,1,0\\r\\n643,46,0,4,138,243,0,2,152,1,0.0,2,0\\r\\n644,51,0,3,120,295,0,2,157,0,0.6,1,0\\r\\n645,58,1,3,112,230,0,2,165,0,2.5,2,1\\r\\n646,71,0,3,110,265,1,2,130,0,0.0,1,0\\r\\n647,57,1,3,128,229,0,2,150,0,0.4,2,1\\r\\n648,66,1,4,160,228,0,2,138,0,2.3,1,0\\r\\n649,37,0,3,120,215,0,0,170,0,0.0,1,0\\r\\n650,59,1,4,170,326,0,2,140,1,3.4,3,1\\r\\n651,50,1,4,144,200,0,2,126,1,0.9,2,1\\r\\n652,48,1,4,130,256,1,2,150,1,0.0,1,1\\r\\n653,61,1,4,140,207,0,2,138,1,1.9,1,1\\r\\n654,59,1,1,160,273,0,2,125,0,0.0,1,1\\r\\n655,42,1,3,130,180,0,0,150,0,0.0,1,0\\r\\n656,48,1,4,122,222,0,2,186,0,0.0,1,0\\r\\n657,40,1,4,152,223,0,0,181,0,0.0,1,1\\r\\n658,62,0,4,124,209,0,0,163,0,0.0,1,0\\r\\n659,44,1,3,130,233,0,0,179,1,0.4,1,0\\r\\n660,46,1,2,101,197,1,0,156,0,0.0,1,0\\r\\n661,59,1,3,126,218,1,0,134,0,2.2,2,1\\r\\n662,58,1,3,140,211,1,2,165,0,0.0,1,0\\r\\n663,49,1,3,118,149,0,2,126,0,0.8,1,1\\r\\n664,44,1,4,110,197,0,2,177,0,0.0,1,1\\r\\n665,66,1,2,160,246,0,0,120,1,0.0,2,1\\r\\n666,65,0,4,150,225,0,2,114,0,1.0,2,1\\r\\n667,42,1,4,136,315,0,0,125,1,1.8,2,1\\r\\n668,52,1,2,128,205,1,0,184,0,0.0,1,0\\r\\n669,65,0,3,140,417,1,2,157,0,0.8,1,0\\r\\n670,63,0,2,140,195,0,0,179,0,0.0,1,0\\r\\n671,45,0,2,130,234,0,2,175,0,0.6,2,0\\r\\n672,41,0,2,105,198,0,0,168,0,0.0,1,0\\r\\n673,61,1,4,138,166,0,2,125,1,3.6,2,1\\r\\n674,60,0,3,120,178,1,0,96,0,0.0,1,0\\r\\n675,59,0,4,174,249,0,0,143,1,0.0,2,1\\r\\n676,62,1,2,120,281,0,2,103,0,1.4,2,1\\r\\n677,57,1,3,150,126,1,0,173,0,0.2,1,0\\r\\n678,51,0,4,130,305,0,0,142,1,1.2,2,1\\r\\n679,44,1,3,120,226,0,0,169,0,0.0,1,0\\r\\n680,60,0,1,150,240,0,0,171,0,0.9,1,0\\r\\n681,63,1,1,145,233,1,2,150,0,2.3,3,0\\r\\n682,57,1,4,150,276,0,2,112,1,0.6,2,1\\r\\n683,51,1,4,140,261,0,2,186,1,0.0,1,0\\r\\n684,58,0,2,136,319,1,2,152,0,0.0,1,1\\r\\n685,44,0,3,118,242,0,0,149,0,0.3,2,0\\r\\n686,47,1,3,108,243,0,0,152,0,0.0,1,1\\r\\n687,61,1,4,120,260,0,0,140,1,3.6,2,1\\r\\n688,57,0,4,120,354,0,0,163,1,0.6,1,0\\r\\n689,70,1,2,156,245,0,2,143,0,0.0,1,0\\r\\n690,76,0,3,140,197,0,1,116,0,1.1,2,0\\r\\n691,67,0,4,106,223,0,0,142,0,0.3,1,0\\r\\n692,45,1,4,142,309,0,2,147,1,0.0,2,1\\r\\n693,45,1,4,104,208,0,2,148,1,3.0,2,0\\r\\n694,39,0,3,94,199,0,0,179,0,0.0,1,0\\r\\n695,42,0,3,120,209,0,0,173,0,0.0,2,0\\r\\n696,56,1,2,120,236,0,0,178,0,0.8,1,0\\r\\n697,58,1,4,146,218,0,0,105,0,2.0,2,1\\r\\n698,35,1,4,120,198,0,0,130,1,1.6,2,1\\r\\n699,58,1,4,150,270,0,2,111,1,0.8,1,1\\r\\n700,41,1,3,130,214,0,2,168,0,2.0,2,0\\r\\n701,57,1,4,110,201,0,0,126,1,1.5,2,0\\r\\n702,42,1,1,148,244,0,2,178,0,0.8,1,0\\r\\n703,62,1,2,128,208,1,2,140,0,0.0,1,0\\r\\n704,59,1,1,178,270,0,2,145,0,4.2,3,0\\r\\n705,41,0,2,126,306,0,0,163,0,0.0,1,0\\r\\n706,50,1,4,150,243,0,2,128,0,2.6,2,1\\r\\n707,59,1,2,140,221,0,0,164,1,0.0,1,0\\r\\n708,61,0,4,130,330,0,2,169,0,0.0,1,1\\r\\n709,54,1,4,124,266,0,2,109,1,2.2,2,1\\r\\n710,54,1,4,110,206,0,2,108,1,0.0,2,1\\r\\n711,52,1,4,125,212,0,0,168,0,1.0,1,1\\r\\n712,47,1,4,110,275,0,2,118,1,1.0,2,1\\r\\n713,66,1,4,120,302,0,2,151,0,0.4,2,0\\r\\n714,58,1,4,100,234,0,0,156,0,0.1,1,1\\r\\n715,64,0,3,140,313,0,0,133,0,0.2,1,0\\r\\n716,50,0,2,120,244,0,0,162,0,1.1,1,0\\r\\n717,44,0,3,108,141,0,0,175,0,0.6,2,0\\r\\n718,67,1,4,120,237,0,0,71,0,1.0,2,1\\r\\n719,49,0,4,130,269,0,0,163,0,0.0,1,0\\r\\n720,57,1,4,165,289,1,2,124,0,1.0,2,1\\r\\n721,63,1,4,130,254,0,2,147,0,1.4,2,1\\r\\n722,48,1,4,124,274,0,2,166,0,0.5,2,1\\r\\n723,51,1,3,100,222,0,0,143,1,1.2,2,0\\r\\n724,60,0,4,150,258,0,2,157,0,2.6,2,1\\r\\n725,59,1,4,140,177,0,0,162,1,0.0,1,1\\r\\n726,45,0,2,112,160,0,0,138,0,0.0,2,0\\r\\n727,55,0,4,180,327,0,1,117,1,3.4,2,1\\r\\n728,41,1,2,110,235,0,0,153,0,0.0,1,0\\r\\n729,60,0,4,158,305,0,2,161,0,0.0,1,1\\r\\n730,54,0,3,135,304,1,0,170,0,0.0,1,0\\r\\n731,42,1,2,120,295,0,0,162,0,0.0,1,0\\r\\n732,49,0,2,134,271,0,0,162,0,0.0,2,0\\r\\n733,46,1,4,120,249,0,2,144,0,0.8,1,1\\r\\n734,56,0,4,200,288,1,2,133,1,4.0,3,1\\r\\n735,66,0,1,150,226,0,0,114,0,2.6,3,0\\r\\n736,56,1,4,130,283,1,2,103,1,1.6,3,1\\r\\n737,49,1,3,120,188,0,0,139,0,2.0,2,1\\r\\n738,54,1,4,122,286,0,2,116,1,3.2,2,1\\r\\n739,57,1,4,152,274,0,0,88,1,1.2,2,1\\r\\n740,65,0,3,160,360,0,2,151,0,0.8,1,0\\r\\n741,54,1,3,125,273,0,2,152,0,0.5,3,0\\r\\n742,54,0,3,160,201,0,0,163,0,0.0,1,0\\r\\n743,62,1,4,120,267,0,0,99,1,1.8,2,1\\r\\n744,52,0,3,136,196,0,2,169,0,0.1,2,0\\r\\n745,52,1,2,134,201,0,0,158,0,0.8,1,0\\r\\n746,60,1,4,117,230,1,0,160,1,1.4,1,1\\r\\n747,63,0,4,108,269,0,0,169,1,1.8,2,1\\r\\n748,66,1,4,112,212,0,2,132,1,0.1,1,1\\r\\n749,42,1,4,140,226,0,0,178,0,0.0,1,0\\r\\n750,64,1,4,120,246,0,2,96,1,2.2,3,1\\r\\n751,54,1,3,150,232,0,2,165,0,1.6,1,0\\r\\n752,46,0,3,142,177,0,2,160,1,1.4,3,0\\r\\n753,67,0,3,152,277,0,0,172,0,0.0,1,0\\r\\n754,56,1,4,125,249,1,2,144,1,1.2,2,1\\r\\n755,34,0,2,118,210,0,0,192,0,0.7,1,0\\r\\n756,57,1,4,132,207,0,0,168,1,0.0,1,0\\r\\n757,64,1,4,145,212,0,2,132,0,2.0,2,1\\r\\n758,59,1,4,138,271,0,2,182,0,0.0,1,0\\r\\n759,50,1,3,140,233,0,0,163,0,0.6,2,1\\r\\n760,51,1,1,125,213,0,2,125,1,1.4,1,0\\r\\n761,54,1,2,192,283,0,2,195,0,0.0,1,1\\r\\n762,53,1,4,123,282,0,0,95,1,2.0,2,1\\r\\n763,52,1,4,112,230,0,0,160,0,0.0,1,1\\r\\n764,40,1,4,110,167,0,2,114,1,2.0,2,1\\r\\n765,58,1,3,132,224,0,2,173,0,3.2,1,1\\r\\n766,41,0,3,112,268,0,2,172,1,0.0,1,0\\r\\n767,41,1,3,112,250,0,0,179,0,0.0,1,0\\r\\n768,50,0,3,120,219,0,0,158,0,1.6,2,0\\r\\n769,54,0,3,108,267,0,2,167,0,0.0,1,0\\r\\n770,64,0,4,130,303,0,0,122,0,2.0,2,0\\r\\n771,51,0,3,130,256,0,2,149,0,0.5,1,0\\r\\n772,46,0,2,105,204,0,0,172,0,0.0,1,0\\r\\n773,55,1,4,140,217,0,0,111,1,5.6,3,1\\r\\n774,45,1,2,128,308,0,2,170,0,0.0,1,0\\r\\n775,56,1,1,120,193,0,2,162,0,1.9,2,0\\r\\n776,66,0,4,178,228,1,0,165,1,1.0,2,1\\r\\n777,38,1,1,120,231,0,0,182,1,3.8,2,1\\r\\n778,62,0,4,150,244,0,0,154,1,1.4,2,1\\r\\n779,55,1,2,130,262,0,0,155,0,0.0,1,0\\r\\n780,58,1,4,128,259,0,2,130,1,3.0,2,1\\r\\n781,43,1,4,110,211,0,0,161,0,0.0,1,0\\r\\n782,64,0,4,180,325,0,0,154,1,0.0,1,0\\r\\n783,50,0,4,110,254,0,2,159,0,0.0,1,0\\r\\n784,53,1,3,130,197,1,2,152,0,1.2,3,0\\r\\n785,45,0,4,138,236,0,2,152,1,0.2,2,0\\r\\n786,65,1,1,138,282,1,2,174,0,1.4,2,1\\r\\n787,69,1,1,160,234,1,2,131,0,0.1,2,0\\r\\n788,69,1,3,140,254,0,2,146,0,2.0,2,1\\r\\n789,67,1,4,100,299,0,2,125,1,0.9,2,1\\r\\n790,68,0,3,120,211,0,2,115,0,1.5,2,0\\r\\n791,34,1,1,118,182,0,2,174,0,0.0,1,0\\r\\n792,62,0,4,138,294,1,0,106,0,1.9,2,1\\r\\n793,51,1,4,140,298,0,0,122,1,4.2,2,1\\r\\n794,46,1,3,150,231,0,0,147,0,3.6,2,1\\r\\n795,67,1,4,125,254,1,0,163,0,0.2,2,1\\r\\n796,50,1,3,129,196,0,0,163,0,0.0,1,0\\r\\n797,42,1,3,120,240,1,0,194,0,0.8,3,0\\r\\n798,56,0,4,134,409,0,2,150,1,1.9,2,1\\r\\n799,41,1,4,110,172,0,2,158,0,0.0,1,1\\r\\n800,42,0,4,102,265,0,2,122,0,0.6,2,0\\r\\n801,53,1,3,130,246,1,2,173,0,0.0,1,0\\r\\n802,43,1,3,130,315,0,0,162,0,1.9,1,0\\r\\n803,56,1,4,132,184,0,2,105,1,2.1,2,1\\r\\n804,52,1,4,108,233,1,0,147,0,0.1,1,0\\r\\n805,62,0,4,140,394,0,2,157,0,1.2,2,0\\r\\n806,70,1,3,160,269,0,0,112,1,2.9,2,1\\r\\n807,54,1,4,140,239,0,0,160,0,1.2,1,0\\r\\n808,70,1,4,145,174,0,0,125,1,2.6,3,1\\r\\n809,54,1,2,108,309,0,0,156,0,0.0,1,0\\r\\n810,35,1,4,126,282,0,2,156,1,0.0,1,1\\r\\n811,48,1,3,124,255,1,0,175,0,0.0,1,0\\r\\n812,55,0,2,135,250,0,2,161,0,1.4,2,0\\r\\n813,58,0,4,100,248,0,2,122,0,1.0,2,0\\r\\n814,54,0,3,110,214,0,0,158,0,1.6,2,0\\r\\n815,69,0,1,140,239,0,0,151,0,1.8,1,0\\r\\n816,77,1,4,125,304,0,2,162,1,0.0,1,1\\r\\n817,68,1,3,118,277,0,0,151,0,1.0,1,0\\r\\n818,58,1,4,125,300,0,2,171,0,0.0,1,1\\r\\n819,60,1,4,125,258,0,2,141,1,2.8,2,1\\r\\n820,51,1,4,140,299,0,0,173,1,1.6,1,1\\r\\n821,55,1,4,160,289,0,2,145,1,0.8,2,1\\r\\n822,52,1,1,152,298,1,0,178,0,1.2,2,0\\r\\n823,60,0,3,102,318,0,0,160,0,0.0,1,0\\r\\n824,58,1,3,105,240,0,2,154,1,0.6,2,0\\r\\n825,64,1,3,125,309,0,0,131,1,1.8,2,1\\r\\n826,37,1,3,130,250,0,0,187,0,3.5,3,0\\r\\n827,59,1,1,170,288,0,2,159,0,0.2,2,1\\r\\n828,51,1,3,125,245,1,2,166,0,2.4,2,0\\r\\n829,43,0,3,122,213,0,0,165,0,0.2,2,0\\r\\n830,58,1,4,128,216,0,2,131,1,2.2,2,1\\r\\n831,29,1,2,130,204,0,2,202,0,0.0,1,0\\r\\n832,41,0,2,130,204,0,2,172,0,1.4,1,0\\r\\n833,63,0,3,135,252,0,2,172,0,0.0,1,0\\r\\n834,51,1,3,94,227,0,0,154,1,0.0,1,0\\r\\n835,54,1,3,120,258,0,2,147,0,0.4,2,0\\r\\n836,44,1,2,120,220,0,0,170,0,0.0,1,0\\r\\n837,54,1,4,110,239,0,0,126,1,2.8,2,1\\r\\n838,65,1,4,135,254,0,2,127,0,2.8,2,1\\r\\n839,57,1,3,150,168,0,0,174,0,1.6,1,0\\r\\n840,63,1,4,130,330,1,2,132,1,1.8,1,1\\r\\n841,35,0,4,138,183,0,0,182,0,1.4,1,0\\r\\n842,41,1,2,135,203,0,0,132,0,0.0,2,0\\r\\n843,62,0,3,130,263,0,0,97,0,1.2,2,1\\r\\n844,43,0,4,132,341,1,2,136,1,3.0,2,1\\r\\n845,58,0,1,150,283,1,2,162,0,1.0,1,0\\r\\n846,52,1,1,118,186,0,2,190,0,0.0,2,0\\r\\n847,61,0,4,145,307,0,2,146,1,1.0,2,1\\r\\n848,39,1,4,118,219,0,0,140,0,1.2,2,1\\r\\n849,45,1,4,115,260,0,2,185,0,0.0,1,0\\r\\n850,52,1,4,128,255,0,0,161,1,0.0,1,1\\r\\n851,62,1,3,130,231,0,0,146,0,1.8,2,0\\r\\n852,62,0,4,160,164,0,2,145,0,6.2,3,1\\r\\n853,53,0,4,138,234,0,2,160,0,0.0,1,0\\r\\n854,43,1,4,120,177,0,2,120,1,2.5,2,1\\r\\n855,47,1,3,138,257,0,2,156,0,0.0,1,0\\r\\n856,52,1,2,120,325,0,0,172,0,0.2,1,0\\r\\n857,68,1,3,180,274,1,2,150,1,1.6,2,1\\r\\n858,39,1,3,140,321,0,2,182,0,0.0,1,0\\r\\n859,53,0,4,130,264,0,2,143,0,0.4,2,0\\r\\n860,62,0,4,140,268,0,2,160,0,3.6,3,1\\r\\n861,51,0,3,140,308,0,2,142,0,1.5,1,0\\r\\n862,60,1,4,130,253,0,0,144,1,1.4,1,1\\r\\n863,65,1,4,110,248,0,2,158,0,0.6,1,1\\r\\n864,65,0,3,155,269,0,0,148,0,0.8,1,0\\r\\n865,60,1,3,140,185,0,2,155,0,3.0,2,1\\r\\n866,60,1,4,145,282,0,2,142,1,2.8,2,1\\r\\n867,54,1,4,120,188,0,0,113,0,1.4,2,1\\r\\n868,44,1,2,130,219,0,2,188,0,0.0,1,0\\r\\n869,44,1,4,112,290,0,2,153,0,0.0,1,1\\r\\n870,51,1,3,110,175,0,0,123,0,0.6,1,0\\r\\n871,59,1,3,150,212,1,0,157,0,1.6,1,0\\r\\n872,71,0,2,160,302,0,0,162,0,0.4,1,0\\r\\n873,61,1,3,150,243,1,0,137,1,1.0,2,0\\r\\n874,55,1,4,132,353,0,0,132,1,1.2,2,1\\r\\n875,64,1,3,140,335,0,0,158,0,0.0,1,1\\r\\n876,43,1,4,150,247,0,0,171,0,1.5,1,0\\r\\n877,58,0,3,120,340,0,0,172,0,0.0,1,0\\r\\n878,60,1,4,130,206,0,2,132,1,2.4,2,1\\r\\n879,58,1,2,120,284,0,2,160,0,1.8,2,1\\r\\n880,49,1,2,130,266,0,0,171,0,0.6,1,0\\r\\n881,48,1,2,110,229,0,0,168,0,1.0,3,1\\r\\n882,52,1,3,172,199,1,0,162,0,0.5,1,0\\r\\n883,44,1,2,120,263,0,0,173,0,0.0,1,0\\r\\n884,56,0,2,140,294,0,2,153,0,1.3,2,0\\r\\n885,57,1,4,140,192,0,0,148,0,0.4,2,0\\r\\n886,67,1,4,160,286,0,2,108,1,1.5,2,1\\r\\n974,53,0,3,128,216,0,2,115,0,0.0,1,0\\r\\n1053,52,1,3,138,223,0,0,169,0,0.0,1,0\\r\\n1079,43,1,4,132,247,1,2,143,1,0.1,2,1\\r\\n1153,52,1,4,128,204,1,0,156,1,1.0,2,1\\r\\n1161,59,1,1,134,204,0,0,162,0,0.8,1,1\\r\\n1162,64,1,1,170,227,0,2,155,0,0.6,2,0\\r\\n1163,66,0,3,146,278,0,2,152,0,0.0,2,0\\r\\n1164,39,0,3,138,220,0,0,152,0,0.0,2,0\\r\\n1165,57,1,2,154,232,0,2,164,0,0.0,1,1\\r\\n1166,58,0,4,130,197,0,0,131,0,0.6,2,0\\r\\n1167,57,1,4,110,335,0,0,143,1,3.0,2,1\\r\\n1168,47,1,3,130,253,0,0,179,0,0.0,1,0\\r\\n1169,55,0,4,128,205,0,1,130,1,2.0,2,1\\r\\n1170,35,1,2,122,192,0,0,174,0,0.0,1,0\\r\\n1171,61,1,4,148,203,0,0,161,0,0.0,1,1\\r\\n1172,58,1,4,114,318,0,1,140,0,4.4,3,1\\r\\n1173,58,0,4,170,225,1,2,146,1,2.8,2,1\\r\\n1174,58,1,2,125,220,0,0,144,0,0.4,2,0\\r\\n1175,56,1,2,130,221,0,2,163,0,0.0,1,0\\r\\n1176,56,1,2,120,240,0,0,169,0,0.0,3,0\\r\\n1177,67,1,3,152,212,0,2,150,0,0.8,2,1\\r\\n1178,55,0,2,132,342,0,0,166,0,1.2,1,0\\r\\n1179,44,1,4,120,169,0,0,144,1,2.8,3,1\\r\\n1180,63,1,4,140,187,0,2,144,1,4.0,1,1\\r\\n1181,63,0,4,124,197,0,0,136,1,0.0,2,1\\r\\n1182,41,1,2,120,157,0,0,182,0,0.0,1,0\\r\\n1183,59,1,4,164,176,1,2,90,0,1.0,2,1\\r\\n1184,57,0,4,140,241,0,0,123,1,0.2,2,1\\r\\n1185,45,1,1,110,264,0,0,132,0,1.2,2,1\\r\\n1186,68,1,4,144,193,1,0,141,0,3.4,2,1\\r\\n1187,57,1,4,130,131,0,0,115,1,1.2,2,1\\r\\n1188,57,0,2,130,236,0,2,174,0,0.0,2,1\\r\\n1189,38,1,3,138,175,0,0,173,0,0.0,1,0\\r\\n'"
      ]
     },
     "execution_count": 24,
     "metadata": {},
     "output_type": "execute_result"
    }
   ],
   "source": [
    "df.to_csv(df.to_csv(r'C:\\Users\\krish sharma\\OneDrive\\Documents\\cad_dataset',index=False))"
   ]
  },
  {
   "cell_type": "code",
   "execution_count": 29,
   "id": "c63f3f1f",
   "metadata": {},
   "outputs": [
    {
     "data": {
      "text/plain": [
       "4"
      ]
     },
     "execution_count": 29,
     "metadata": {},
     "output_type": "execute_result"
    }
   ],
   "source": [
    "len(df['ST_slope'].value_counts())"
   ]
  },
  {
   "cell_type": "code",
   "execution_count": 22,
   "id": "fb52c623",
   "metadata": {},
   "outputs": [
    {
     "data": {
      "text/plain": [
       "Index(['age', 'sex', 'chest_pain_type', 'resting_bp_s', 'cholesterol',\n",
       "       'fasting_blood_sugar', 'resting_ecg', 'max_heart_rate',\n",
       "       'exercise_angina', 'oldpeak', 'ST_slope', 'target'],\n",
       "      dtype='object')"
      ]
     },
     "execution_count": 22,
     "metadata": {},
     "output_type": "execute_result"
    }
   ],
   "source": [
    "df.columns"
   ]
  },
  {
   "cell_type": "code",
   "execution_count": 23,
   "id": "37cd8366",
   "metadata": {},
   "outputs": [],
   "source": [
    "num_col=[]\n",
    "cat_col=[]\n",
    "for i in df.columns:\n",
    "    if len(df[i].value_counts())>6:\n",
    "        num_col.append(i)\n",
    "    else:\n",
    "        cat_col.append(i)    \n"
   ]
  },
  {
   "cell_type": "code",
   "execution_count": 24,
   "id": "9313a2e0",
   "metadata": {},
   "outputs": [
    {
     "name": "stdout",
     "output_type": "stream",
     "text": [
      "['sex', 'chest_pain_type', 'fasting_blood_sugar', 'resting_ecg', 'exercise_angina', 'ST_slope', 'target']\n",
      "['age', 'resting_bp_s', 'cholesterol', 'max_heart_rate', 'oldpeak']\n"
     ]
    }
   ],
   "source": [
    "print(cat_col)\n",
    "print(num_col)"
   ]
  },
  {
   "cell_type": "code",
   "execution_count": 34,
   "id": "60f3a62b",
   "metadata": {},
   "outputs": [],
   "source": [
    "from sklearn.model_selection import train_test_split"
   ]
  },
  {
   "cell_type": "code",
   "execution_count": 36,
   "id": "e66217a7",
   "metadata": {},
   "outputs": [],
   "source": [
    "x=df.drop(columns='target',axis=1)\n",
    "y=df['target']"
   ]
  },
  {
   "cell_type": "code",
   "execution_count": 79,
   "id": "23acd2cc",
   "metadata": {},
   "outputs": [],
   "source": [
    "x_train,x_test,y_train,y_test=train_test_split(x,y,random_state=42,stratify=y,test_size=0.27)"
   ]
  },
  {
   "cell_type": "code",
   "execution_count": 80,
   "id": "31270ae2",
   "metadata": {},
   "outputs": [
    {
     "data": {
      "text/html": [
       "<div>\n",
       "<style scoped>\n",
       "    .dataframe tbody tr th:only-of-type {\n",
       "        vertical-align: middle;\n",
       "    }\n",
       "\n",
       "    .dataframe tbody tr th {\n",
       "        vertical-align: top;\n",
       "    }\n",
       "\n",
       "    .dataframe thead th {\n",
       "        text-align: right;\n",
       "    }\n",
       "</style>\n",
       "<table border=\"1\" class=\"dataframe\">\n",
       "  <thead>\n",
       "    <tr style=\"text-align: right;\">\n",
       "      <th></th>\n",
       "      <th>age</th>\n",
       "      <th>sex</th>\n",
       "      <th>chest_pain_type</th>\n",
       "      <th>resting_bp_s</th>\n",
       "      <th>cholesterol</th>\n",
       "      <th>fasting_blood_sugar</th>\n",
       "      <th>resting_ecg</th>\n",
       "      <th>max_heart_rate</th>\n",
       "      <th>exercise_angina</th>\n",
       "      <th>oldpeak</th>\n",
       "      <th>ST_slope</th>\n",
       "    </tr>\n",
       "  </thead>\n",
       "  <tbody>\n",
       "    <tr>\n",
       "      <th>729</th>\n",
       "      <td>60</td>\n",
       "      <td>0</td>\n",
       "      <td>4</td>\n",
       "      <td>158</td>\n",
       "      <td>305</td>\n",
       "      <td>0</td>\n",
       "      <td>2</td>\n",
       "      <td>161</td>\n",
       "      <td>0</td>\n",
       "      <td>0.0</td>\n",
       "      <td>1</td>\n",
       "    </tr>\n",
       "    <tr>\n",
       "      <th>599</th>\n",
       "      <td>55</td>\n",
       "      <td>1</td>\n",
       "      <td>4</td>\n",
       "      <td>120</td>\n",
       "      <td>226</td>\n",
       "      <td>0</td>\n",
       "      <td>2</td>\n",
       "      <td>127</td>\n",
       "      <td>1</td>\n",
       "      <td>1.7</td>\n",
       "      <td>3</td>\n",
       "    </tr>\n",
       "    <tr>\n",
       "      <th>290</th>\n",
       "      <td>36</td>\n",
       "      <td>1</td>\n",
       "      <td>2</td>\n",
       "      <td>120</td>\n",
       "      <td>166</td>\n",
       "      <td>0</td>\n",
       "      <td>0</td>\n",
       "      <td>180</td>\n",
       "      <td>0</td>\n",
       "      <td>0.0</td>\n",
       "      <td>1</td>\n",
       "    </tr>\n",
       "    <tr>\n",
       "      <th>689</th>\n",
       "      <td>70</td>\n",
       "      <td>1</td>\n",
       "      <td>2</td>\n",
       "      <td>156</td>\n",
       "      <td>245</td>\n",
       "      <td>0</td>\n",
       "      <td>2</td>\n",
       "      <td>143</td>\n",
       "      <td>0</td>\n",
       "      <td>0.0</td>\n",
       "      <td>1</td>\n",
       "    </tr>\n",
       "    <tr>\n",
       "      <th>340</th>\n",
       "      <td>64</td>\n",
       "      <td>0</td>\n",
       "      <td>4</td>\n",
       "      <td>95</td>\n",
       "      <td>0</td>\n",
       "      <td>1</td>\n",
       "      <td>0</td>\n",
       "      <td>145</td>\n",
       "      <td>0</td>\n",
       "      <td>1.1</td>\n",
       "      <td>3</td>\n",
       "    </tr>\n",
       "    <tr>\n",
       "      <th>...</th>\n",
       "      <td>...</td>\n",
       "      <td>...</td>\n",
       "      <td>...</td>\n",
       "      <td>...</td>\n",
       "      <td>...</td>\n",
       "      <td>...</td>\n",
       "      <td>...</td>\n",
       "      <td>...</td>\n",
       "      <td>...</td>\n",
       "      <td>...</td>\n",
       "      <td>...</td>\n",
       "    </tr>\n",
       "    <tr>\n",
       "      <th>514</th>\n",
       "      <td>62</td>\n",
       "      <td>1</td>\n",
       "      <td>1</td>\n",
       "      <td>112</td>\n",
       "      <td>258</td>\n",
       "      <td>0</td>\n",
       "      <td>1</td>\n",
       "      <td>150</td>\n",
       "      <td>1</td>\n",
       "      <td>1.3</td>\n",
       "      <td>2</td>\n",
       "    </tr>\n",
       "    <tr>\n",
       "      <th>304</th>\n",
       "      <td>62</td>\n",
       "      <td>0</td>\n",
       "      <td>4</td>\n",
       "      <td>120</td>\n",
       "      <td>0</td>\n",
       "      <td>1</td>\n",
       "      <td>1</td>\n",
       "      <td>123</td>\n",
       "      <td>1</td>\n",
       "      <td>1.7</td>\n",
       "      <td>3</td>\n",
       "    </tr>\n",
       "    <tr>\n",
       "      <th>682</th>\n",
       "      <td>57</td>\n",
       "      <td>1</td>\n",
       "      <td>4</td>\n",
       "      <td>150</td>\n",
       "      <td>276</td>\n",
       "      <td>0</td>\n",
       "      <td>2</td>\n",
       "      <td>112</td>\n",
       "      <td>1</td>\n",
       "      <td>0.6</td>\n",
       "      <td>2</td>\n",
       "    </tr>\n",
       "    <tr>\n",
       "      <th>610</th>\n",
       "      <td>62</td>\n",
       "      <td>1</td>\n",
       "      <td>4</td>\n",
       "      <td>158</td>\n",
       "      <td>170</td>\n",
       "      <td>0</td>\n",
       "      <td>1</td>\n",
       "      <td>138</td>\n",
       "      <td>1</td>\n",
       "      <td>0.0</td>\n",
       "      <td>2</td>\n",
       "    </tr>\n",
       "    <tr>\n",
       "      <th>62</th>\n",
       "      <td>45</td>\n",
       "      <td>1</td>\n",
       "      <td>4</td>\n",
       "      <td>140</td>\n",
       "      <td>224</td>\n",
       "      <td>0</td>\n",
       "      <td>0</td>\n",
       "      <td>144</td>\n",
       "      <td>0</td>\n",
       "      <td>0.0</td>\n",
       "      <td>1</td>\n",
       "    </tr>\n",
       "  </tbody>\n",
       "</table>\n",
       "<p>670 rows × 11 columns</p>\n",
       "</div>"
      ],
      "text/plain": [
       "     age  sex  chest_pain_type  resting_bp_s  cholesterol  \\\n",
       "729   60    0                4           158          305   \n",
       "599   55    1                4           120          226   \n",
       "290   36    1                2           120          166   \n",
       "689   70    1                2           156          245   \n",
       "340   64    0                4            95            0   \n",
       "..   ...  ...              ...           ...          ...   \n",
       "514   62    1                1           112          258   \n",
       "304   62    0                4           120            0   \n",
       "682   57    1                4           150          276   \n",
       "610   62    1                4           158          170   \n",
       "62    45    1                4           140          224   \n",
       "\n",
       "     fasting_blood_sugar  resting_ecg  max_heart_rate  exercise_angina  \\\n",
       "729                    0            2             161                0   \n",
       "599                    0            2             127                1   \n",
       "290                    0            0             180                0   \n",
       "689                    0            2             143                0   \n",
       "340                    1            0             145                0   \n",
       "..                   ...          ...             ...              ...   \n",
       "514                    0            1             150                1   \n",
       "304                    1            1             123                1   \n",
       "682                    0            2             112                1   \n",
       "610                    0            1             138                1   \n",
       "62                     0            0             144                0   \n",
       "\n",
       "     oldpeak  ST_slope  \n",
       "729      0.0         1  \n",
       "599      1.7         3  \n",
       "290      0.0         1  \n",
       "689      0.0         1  \n",
       "340      1.1         3  \n",
       "..       ...       ...  \n",
       "514      1.3         2  \n",
       "304      1.7         3  \n",
       "682      0.6         2  \n",
       "610      0.0         2  \n",
       "62       0.0         1  \n",
       "\n",
       "[670 rows x 11 columns]"
      ]
     },
     "execution_count": 80,
     "metadata": {},
     "output_type": "execute_result"
    }
   ],
   "source": [
    "x_train"
   ]
  },
  {
   "cell_type": "code",
   "execution_count": 81,
   "id": "beff3c08",
   "metadata": {},
   "outputs": [
    {
     "data": {
      "text/html": [
       "<div>\n",
       "<style scoped>\n",
       "    .dataframe tbody tr th:only-of-type {\n",
       "        vertical-align: middle;\n",
       "    }\n",
       "\n",
       "    .dataframe tbody tr th {\n",
       "        vertical-align: top;\n",
       "    }\n",
       "\n",
       "    .dataframe thead th {\n",
       "        text-align: right;\n",
       "    }\n",
       "</style>\n",
       "<table border=\"1\" class=\"dataframe\">\n",
       "  <thead>\n",
       "    <tr style=\"text-align: right;\">\n",
       "      <th></th>\n",
       "      <th>age</th>\n",
       "      <th>sex</th>\n",
       "      <th>chest_pain_type</th>\n",
       "      <th>resting_bp_s</th>\n",
       "      <th>cholesterol</th>\n",
       "      <th>fasting_blood_sugar</th>\n",
       "      <th>resting_ecg</th>\n",
       "      <th>max_heart_rate</th>\n",
       "      <th>exercise_angina</th>\n",
       "      <th>oldpeak</th>\n",
       "      <th>ST_slope</th>\n",
       "    </tr>\n",
       "  </thead>\n",
       "  <tbody>\n",
       "    <tr>\n",
       "      <th>629</th>\n",
       "      <td>44</td>\n",
       "      <td>1</td>\n",
       "      <td>3</td>\n",
       "      <td>140</td>\n",
       "      <td>235</td>\n",
       "      <td>0</td>\n",
       "      <td>2</td>\n",
       "      <td>180</td>\n",
       "      <td>0</td>\n",
       "      <td>0.0</td>\n",
       "      <td>1</td>\n",
       "    </tr>\n",
       "    <tr>\n",
       "      <th>576</th>\n",
       "      <td>56</td>\n",
       "      <td>1</td>\n",
       "      <td>4</td>\n",
       "      <td>137</td>\n",
       "      <td>282</td>\n",
       "      <td>1</td>\n",
       "      <td>0</td>\n",
       "      <td>126</td>\n",
       "      <td>1</td>\n",
       "      <td>1.2</td>\n",
       "      <td>2</td>\n",
       "    </tr>\n",
       "    <tr>\n",
       "      <th>673</th>\n",
       "      <td>61</td>\n",
       "      <td>1</td>\n",
       "      <td>4</td>\n",
       "      <td>138</td>\n",
       "      <td>166</td>\n",
       "      <td>0</td>\n",
       "      <td>2</td>\n",
       "      <td>125</td>\n",
       "      <td>1</td>\n",
       "      <td>3.6</td>\n",
       "      <td>2</td>\n",
       "    </tr>\n",
       "    <tr>\n",
       "      <th>399</th>\n",
       "      <td>52</td>\n",
       "      <td>1</td>\n",
       "      <td>4</td>\n",
       "      <td>165</td>\n",
       "      <td>0</td>\n",
       "      <td>1</td>\n",
       "      <td>0</td>\n",
       "      <td>122</td>\n",
       "      <td>1</td>\n",
       "      <td>1.0</td>\n",
       "      <td>1</td>\n",
       "    </tr>\n",
       "    <tr>\n",
       "      <th>556</th>\n",
       "      <td>58</td>\n",
       "      <td>1</td>\n",
       "      <td>3</td>\n",
       "      <td>150</td>\n",
       "      <td>219</td>\n",
       "      <td>0</td>\n",
       "      <td>1</td>\n",
       "      <td>118</td>\n",
       "      <td>1</td>\n",
       "      <td>0.0</td>\n",
       "      <td>2</td>\n",
       "    </tr>\n",
       "    <tr>\n",
       "      <th>...</th>\n",
       "      <td>...</td>\n",
       "      <td>...</td>\n",
       "      <td>...</td>\n",
       "      <td>...</td>\n",
       "      <td>...</td>\n",
       "      <td>...</td>\n",
       "      <td>...</td>\n",
       "      <td>...</td>\n",
       "      <td>...</td>\n",
       "      <td>...</td>\n",
       "      <td>...</td>\n",
       "    </tr>\n",
       "    <tr>\n",
       "      <th>137</th>\n",
       "      <td>39</td>\n",
       "      <td>1</td>\n",
       "      <td>2</td>\n",
       "      <td>120</td>\n",
       "      <td>241</td>\n",
       "      <td>0</td>\n",
       "      <td>1</td>\n",
       "      <td>146</td>\n",
       "      <td>0</td>\n",
       "      <td>2.0</td>\n",
       "      <td>1</td>\n",
       "    </tr>\n",
       "    <tr>\n",
       "      <th>567</th>\n",
       "      <td>41</td>\n",
       "      <td>1</td>\n",
       "      <td>4</td>\n",
       "      <td>150</td>\n",
       "      <td>171</td>\n",
       "      <td>0</td>\n",
       "      <td>0</td>\n",
       "      <td>128</td>\n",
       "      <td>1</td>\n",
       "      <td>1.5</td>\n",
       "      <td>2</td>\n",
       "    </tr>\n",
       "    <tr>\n",
       "      <th>11</th>\n",
       "      <td>58</td>\n",
       "      <td>1</td>\n",
       "      <td>2</td>\n",
       "      <td>136</td>\n",
       "      <td>164</td>\n",
       "      <td>0</td>\n",
       "      <td>1</td>\n",
       "      <td>99</td>\n",
       "      <td>1</td>\n",
       "      <td>2.0</td>\n",
       "      <td>2</td>\n",
       "    </tr>\n",
       "    <tr>\n",
       "      <th>259</th>\n",
       "      <td>51</td>\n",
       "      <td>0</td>\n",
       "      <td>3</td>\n",
       "      <td>150</td>\n",
       "      <td>200</td>\n",
       "      <td>0</td>\n",
       "      <td>0</td>\n",
       "      <td>120</td>\n",
       "      <td>0</td>\n",
       "      <td>0.5</td>\n",
       "      <td>1</td>\n",
       "    </tr>\n",
       "    <tr>\n",
       "      <th>49</th>\n",
       "      <td>41</td>\n",
       "      <td>1</td>\n",
       "      <td>4</td>\n",
       "      <td>110</td>\n",
       "      <td>289</td>\n",
       "      <td>0</td>\n",
       "      <td>0</td>\n",
       "      <td>170</td>\n",
       "      <td>0</td>\n",
       "      <td>0.0</td>\n",
       "      <td>2</td>\n",
       "    </tr>\n",
       "  </tbody>\n",
       "</table>\n",
       "<p>248 rows × 11 columns</p>\n",
       "</div>"
      ],
      "text/plain": [
       "     age  sex  chest_pain_type  resting_bp_s  cholesterol  \\\n",
       "629   44    1                3           140          235   \n",
       "576   56    1                4           137          282   \n",
       "673   61    1                4           138          166   \n",
       "399   52    1                4           165            0   \n",
       "556   58    1                3           150          219   \n",
       "..   ...  ...              ...           ...          ...   \n",
       "137   39    1                2           120          241   \n",
       "567   41    1                4           150          171   \n",
       "11    58    1                2           136          164   \n",
       "259   51    0                3           150          200   \n",
       "49    41    1                4           110          289   \n",
       "\n",
       "     fasting_blood_sugar  resting_ecg  max_heart_rate  exercise_angina  \\\n",
       "629                    0            2             180                0   \n",
       "576                    1            0             126                1   \n",
       "673                    0            2             125                1   \n",
       "399                    1            0             122                1   \n",
       "556                    0            1             118                1   \n",
       "..                   ...          ...             ...              ...   \n",
       "137                    0            1             146                0   \n",
       "567                    0            0             128                1   \n",
       "11                     0            1              99                1   \n",
       "259                    0            0             120                0   \n",
       "49                     0            0             170                0   \n",
       "\n",
       "     oldpeak  ST_slope  \n",
       "629      0.0         1  \n",
       "576      1.2         2  \n",
       "673      3.6         2  \n",
       "399      1.0         1  \n",
       "556      0.0         2  \n",
       "..       ...       ...  \n",
       "137      2.0         1  \n",
       "567      1.5         2  \n",
       "11       2.0         2  \n",
       "259      0.5         1  \n",
       "49       0.0         2  \n",
       "\n",
       "[248 rows x 11 columns]"
      ]
     },
     "execution_count": 81,
     "metadata": {},
     "output_type": "execute_result"
    }
   ],
   "source": [
    "x_test"
   ]
  },
  {
   "cell_type": "code",
   "execution_count": 82,
   "id": "eedcd364",
   "metadata": {},
   "outputs": [
    {
     "data": {
      "text/plain": [
       "729    1\n",
       "599    1\n",
       "290    0\n",
       "689    0\n",
       "340    1\n",
       "      ..\n",
       "514    1\n",
       "304    1\n",
       "682    1\n",
       "610    1\n",
       "62     0\n",
       "Name: target, Length: 670, dtype: int64"
      ]
     },
     "execution_count": 82,
     "metadata": {},
     "output_type": "execute_result"
    }
   ],
   "source": [
    "y_train"
   ]
  },
  {
   "cell_type": "code",
   "execution_count": 83,
   "id": "47ba2e8b",
   "metadata": {},
   "outputs": [
    {
     "data": {
      "text/plain": [
       "629    0\n",
       "576    1\n",
       "673    1\n",
       "399    1\n",
       "556    1\n",
       "      ..\n",
       "137    0\n",
       "567    0\n",
       "11     1\n",
       "259    0\n",
       "49     1\n",
       "Name: target, Length: 248, dtype: int64"
      ]
     },
     "execution_count": 83,
     "metadata": {},
     "output_type": "execute_result"
    }
   ],
   "source": [
    "y_test"
   ]
  },
  {
   "cell_type": "code",
   "execution_count": 84,
   "id": "e213b29f",
   "metadata": {},
   "outputs": [],
   "source": [
    "from sklearn.preprocessing import StandardScaler"
   ]
  },
  {
   "cell_type": "code",
   "execution_count": 85,
   "id": "e6441e84",
   "metadata": {},
   "outputs": [],
   "source": [
    "std=StandardScaler()"
   ]
  },
  {
   "cell_type": "code",
   "execution_count": 86,
   "id": "e3e9e05a",
   "metadata": {},
   "outputs": [],
   "source": [
    "x_train=std.fit_transform(x_train)\n",
    "x_test=std.transform(x_test)"
   ]
  },
  {
   "cell_type": "code",
   "execution_count": 87,
   "id": "0dfcfad1",
   "metadata": {},
   "outputs": [
    {
     "data": {
      "text/plain": [
       "array([[ 0.64249312, -1.91122416,  0.78627725, ..., -0.83696333,\n",
       "        -0.82203845, -1.05669279],\n",
       "       [ 0.11547256,  0.52322486,  0.78627725, ...,  1.19479548,\n",
       "         0.75821774,  2.2210117 ],\n",
       "       [-1.88720554,  0.52322486, -1.33366544, ..., -0.83696333,\n",
       "        -0.82203845, -1.05669279],\n",
       "       ...,\n",
       "       [ 0.32628078,  0.52322486,  0.78627725, ...,  1.19479548,\n",
       "        -0.26430097,  0.58215945],\n",
       "       [ 0.85330134,  0.52322486,  0.78627725, ...,  1.19479548,\n",
       "        -0.82203845,  0.58215945],\n",
       "       [-0.93856854,  0.52322486,  0.78627725, ..., -0.83696333,\n",
       "        -0.82203845, -1.05669279]], shape=(670, 11))"
      ]
     },
     "execution_count": 87,
     "metadata": {},
     "output_type": "execute_result"
    }
   ],
   "source": [
    "x_train"
   ]
  },
  {
   "cell_type": "code",
   "execution_count": 88,
   "id": "c87735f3",
   "metadata": {},
   "outputs": [],
   "source": [
    "from sklearn.ensemble import AdaBoostClassifier"
   ]
  },
  {
   "cell_type": "code",
   "execution_count": 89,
   "id": "a4cf288c",
   "metadata": {},
   "outputs": [],
   "source": [
    "ada=AdaBoostClassifier()"
   ]
  },
  {
   "cell_type": "code",
   "execution_count": 90,
   "id": "75074238",
   "metadata": {},
   "outputs": [],
   "source": [
    "a=ada.fit(x_train,y_train)"
   ]
  },
  {
   "cell_type": "code",
   "execution_count": 91,
   "id": "59282a71",
   "metadata": {},
   "outputs": [],
   "source": [
    "y_pred=a.predict(x_test)"
   ]
  },
  {
   "cell_type": "code",
   "execution_count": 92,
   "id": "f933cf19",
   "metadata": {},
   "outputs": [],
   "source": [
    "from sklearn.metrics import accuracy_score"
   ]
  },
  {
   "cell_type": "code",
   "execution_count": 93,
   "id": "16a83649",
   "metadata": {},
   "outputs": [],
   "source": [
    "accuracy=accuracy_score(y_true=y_test,y_pred=y_pred)"
   ]
  },
  {
   "cell_type": "code",
   "execution_count": 94,
   "id": "3426dd35",
   "metadata": {},
   "outputs": [
    {
     "data": {
      "text/plain": [
       "0.8991935483870968"
      ]
     },
     "execution_count": 94,
     "metadata": {},
     "output_type": "execute_result"
    }
   ],
   "source": [
    "accuracy"
   ]
  },
  {
   "cell_type": "code",
   "execution_count": 59,
   "id": "376ca07e",
   "metadata": {},
   "outputs": [],
   "source": [
    "from sklearn.model_selection import GridSearchCV\n",
    "from sklearn.metrics import r2_score"
   ]
  },
  {
   "cell_type": "code",
   "execution_count": 61,
   "id": "4f41d635",
   "metadata": {},
   "outputs": [],
   "source": [
    "import pickle as pkl\n",
    "\n",
    "from sklearn.linear_model import LogisticRegression\n",
    "from sklearn.ensemble import AdaBoostClassifier\n",
    "from sklearn.ensemble import RandomForestClassifier\n",
    "from sklearn.ensemble import GradientBoostingClassifier\n",
    "from sklearn.tree import DecisionTreeClassifier \n",
    "from xgboost import XGBRFClassifier\n",
    "from sklearn.neighbors import KNeighborsClassifier\n",
    "# import warnings\n",
    "# warnings.filterwarnings('ignore')\n",
    "\n",
    "\n",
    "\n",
    "\n",
    "from sklearn.metrics import r2_score\n",
    "\n",
    "from src.exception import CustomException\n",
    "\n",
    "from src.logger import logging\n",
    "from dataclasses import dataclass\n",
    "\n",
    "from src.utlis import save_object\n",
    "from src.utlis import evaluate_model"
   ]
  },
  {
   "cell_type": "code",
   "execution_count": 60,
   "id": "116cc8c1",
   "metadata": {},
   "outputs": [],
   "source": [
    "def evaluate_model(x_train,y_train,x_test,y_test,models:dict,param):\n",
    "     score={}\n",
    "     for i in range(len(list(models))):\n",
    "            model=list(models.values())[i]\n",
    "            model.fit(x_train,y_train)\n",
    "\n",
    "            para=param[list(param.keys())[i]]\n",
    "            \n",
    "\n",
    "            gd=GridSearchCV(model,para,cv=3)\n",
    "            gd.fit(x_train,y_train)\n",
    "\n",
    "            model.set_params(**gd.best_params_)\n",
    "            model.fit(x_train,y_train)\n",
    "\n",
    "            y_pred=model.predict(x_test)\n",
    "            r2score=r2_score(y_test,y_pred)\n",
    "\n",
    "            score[list(models.keys())[i]]=r2score\n",
    "\n",
    "            return score"
   ]
  },
  {
   "cell_type": "code",
   "execution_count": 98,
   "id": "e56d0f62",
   "metadata": {},
   "outputs": [],
   "source": [
    "def  initiate_model_training(train_arr,test_arr):\n",
    "                        \n",
    "                        models = {\n",
    "                            \"LogisticRegression\": LogisticRegression(),\n",
    "                            \"KNeighborsClassifier\": KNeighborsClassifier(),\n",
    "                            \"AdaBoostClassifier\": AdaBoostClassifier(),\n",
    "                            \"RandomForestClassifier\": RandomForestClassifier(),\n",
    "                            # \"DecisionTreeClassifier\": DecisionTreeClassifier(),\n",
    "                            # \"GradientBoostingClassifier\": GradientBoostingClassifier(),\n",
    "                            # \"XGBRFClassifier\": XGBRFClassifier()\n",
    "                        }\n",
    "\n",
    "                        params_classifier = {\n",
    "                            \"LogisticRegression\": \n",
    "                                {\n",
    "                                    'penalty': ['l2', 'none'],\n",
    "                                    # 'solver': ['lbfgs', 'newton-cg', 'sag', 'saga'],\n",
    "                                    'C': [0.0001, 0.001, 0.01, 0.1, 1, 10, 100, 1000],\n",
    "                                    # 'max_iter': [100, 500, 1000, 2500]\n",
    "                                },\n",
    "                                \n",
    "\n",
    "                            \"KNeighborsClassifier\": {\n",
    "                                'n_neighbors': [3, 5, 7, 9],\n",
    "                                # 'weights': ['uniform', 'distance'],\n",
    "                                'metric': ['euclidean', 'manhattan', 'minkowski']\n",
    "                            },\n",
    "\n",
    "                            \"AdaBoostClassifier\": {\n",
    "                                'n_estimators': [50, 100, 150, 200],\n",
    "                                'learning_rate': [0.01, 0.1, 0.5, 1.0],\n",
    "                                # 'algorithm': ['SAMME', 'SAMME.R'],\n",
    "                                # 'estimator': [None, DecisionTreeClassifier(max_depth=1)]  # decision stump option\n",
    "                            },\n",
    "\n",
    "                            \"RandomForestClassifier\": {\n",
    "                                'n_estimators': [50, 100, 200],\n",
    "                                'max_depth': [None, 10, 20, 30],\n",
    "                                'min_samples_split': [2, 5, 10],\n",
    "                                # 'min_samples_leaf': [1, 2, 4],\n",
    "                                # 'max_features': ['sqrt', 'log2', None],  # 'auto' can be deprecated\n",
    "                                # 'bootstrap': [True, False]\n",
    "                            },\n",
    "\n",
    "                            # \"DecisionTreeClassifier\": {\n",
    "                            #     'criterion': ['gini', 'entropy'],\n",
    "                            #     'max_depth': [None, 10, 20, 30],\n",
    "                            #     'min_samples_split': [2, 5, 10],\n",
    "                            #     # 'min_samples_leaf': [1, 2, 4],\n",
    "                            #     # 'max_features': ['sqrt', 'log2', None],  # Removed 'auto' to avoid warnings\n",
    "                            #     # 'splitter': ['best', 'random']\n",
    "                            # },\n",
    "\n",
    "                            # \"GradientBoostingClassifier\": {\n",
    "                            #     'n_estimators': [50, 100, 200],\n",
    "                            #     'learning_rate': [0.01, 0.05, 0.1, 0.2],\n",
    "                            #     'max_depth': [3, 5, 7],\n",
    "                            #     # 'min_samples_split': [2, 5],\n",
    "                            #     # 'min_samples_leaf': [1, 2],\n",
    "                            #     # 'subsample': [0.6, 0.8, 1.0],\n",
    "                            #     # 'max_features': ['sqrt', 'log2', None]  # Removed 'auto' for consistency\n",
    "                            # },\n",
    "\n",
    "                        #     \"XGBRFClassifier\": {\n",
    "                        #         'n_estimators': [50, 100, 200],\n",
    "                        #         'max_depth': [3, 5, 7],\n",
    "                        #     #     'learning_rate': [0.01, 0.1],\n",
    "                        #     #     'subsample': [0.6, 0.8, 1.0],\n",
    "                        #     #     'colsample_bynode': [0.6, 0.8, 1.0],\n",
    "                        #     #     'min_child_weight': [1, 3, 5]\n",
    "                        #     }\n",
    "                        }\n",
    "\n",
    "                        model_report:dict=evaluate_model(x_train=x_train,y_train=y_train,x_test=x_test,y_test=y_test,models=models)\n",
    "\n",
    "                        best_score=max(sorted(model_report.values()))\n",
    "\n",
    "                        # if best_score<0.6:\n",
    "                        #     raise CustomException(\"NO best model\")\n",
    "                        \n",
    "                        # getting best model name\n",
    "                        best_model_name=list(model_report.keys())[list(model_report.values()).index(best_score)]\n",
    "                        # .index will give the index of best model score in model report\n",
    "                        \n",
    "                        best_model=models[best_model_name]\n",
    "\n",
    "                        # save_object(\n",
    "                        #        file_path=self.ModelTrainerConfig.trained_model_file_path,\n",
    "                        #        obj=best_model\n",
    "                               \n",
    "                        # )\n",
    "                          \n",
    "                        best_model.fit(x_train,y_train)\n",
    "                        y_pred=best_model.predict(x_test)\n",
    "\n",
    "                        r2score=r2_score(y_test,y_pred)\n",
    "\n",
    "                        return (r2score,best_model)\n"
   ]
  },
  {
   "cell_type": "code",
   "execution_count": 99,
   "id": "6c6afeae",
   "metadata": {},
   "outputs": [
    {
     "data": {
      "text/plain": [
       "(0.6901426974419675, RandomForestClassifier())"
      ]
     },
     "execution_count": 99,
     "metadata": {},
     "output_type": "execute_result"
    }
   ],
   "source": [
    "initiate_model_training(train_arr=x_train,test_arr=y_train)"
   ]
  },
  {
   "cell_type": "code",
   "execution_count": 76,
   "id": "7e7e8125",
   "metadata": {},
   "outputs": [
    {
     "name": "stdout",
     "output_type": "stream",
     "text": [
      "[306 364]\n"
     ]
    }
   ],
   "source": [
    "import numpy as np\n",
    "print(np.bincount(y_train.astype(int)))"
   ]
  },
  {
   "cell_type": "code",
   "execution_count": 77,
   "id": "0182a4ef",
   "metadata": {},
   "outputs": [
    {
     "name": "stdout",
     "output_type": "stream",
     "text": [
      "<class 'pandas.core.frame.DataFrame'>\n",
      "Index: 918 entries, 0 to 1189\n",
      "Data columns (total 12 columns):\n",
      " #   Column               Non-Null Count  Dtype  \n",
      "---  ------               --------------  -----  \n",
      " 0   age                  918 non-null    int64  \n",
      " 1   sex                  918 non-null    int64  \n",
      " 2   chest_pain_type      918 non-null    int64  \n",
      " 3   resting_bp_s         918 non-null    int64  \n",
      " 4   cholesterol          918 non-null    int64  \n",
      " 5   fasting_blood_sugar  918 non-null    int64  \n",
      " 6   resting_ecg          918 non-null    int64  \n",
      " 7   max_heart_rate       918 non-null    int64  \n",
      " 8   exercise_angina      918 non-null    int64  \n",
      " 9   oldpeak              918 non-null    float64\n",
      " 10  ST_slope             918 non-null    int64  \n",
      " 11  target               918 non-null    int64  \n",
      "dtypes: float64(1), int64(11)\n",
      "memory usage: 93.2 KB\n"
     ]
    }
   ],
   "source": [
    "df.info()"
   ]
  },
  {
   "cell_type": "code",
   "execution_count": 78,
   "id": "4c2a3f76",
   "metadata": {},
   "outputs": [
    {
     "name": "stdout",
     "output_type": "stream",
     "text": [
      "age                     50\n",
      "sex                      2\n",
      "chest_pain_type          4\n",
      "resting_bp_s            67\n",
      "cholesterol            222\n",
      "fasting_blood_sugar      2\n",
      "resting_ecg              3\n",
      "max_heart_rate         119\n",
      "exercise_angina          2\n",
      "oldpeak                 53\n",
      "ST_slope                 4\n",
      "target                   2\n",
      "dtype: int64\n"
     ]
    }
   ],
   "source": [
    "print(df.nunique())\n"
   ]
  },
  {
   "cell_type": "code",
   "execution_count": 95,
   "id": "894dbc50",
   "metadata": {},
   "outputs": [
    {
     "name": "stdout",
     "output_type": "stream",
     "text": [
      "Train acc: 0.844776119402985\n",
      "Test acc: 0.875\n"
     ]
    }
   ],
   "source": [
    "from sklearn.linear_model import LogisticRegression\n",
    "clf = LogisticRegression()\n",
    "clf.fit(x_train, y_train)\n",
    "print(\"Train acc:\", clf.score(x_train, y_train))\n",
    "print(\"Test acc:\", clf.score(x_test, y_test))\n"
   ]
  },
  {
   "cell_type": "code",
   "execution_count": 25,
   "id": "e2567383",
   "metadata": {},
   "outputs": [
    {
     "name": "stdout",
     "output_type": "stream",
     "text": [
      "['sex', 'chest_pain_type', 'fasting_blood_sugar', 'resting_ecg', 'exercise_angina', 'ST_slope', 'target']\n"
     ]
    }
   ],
   "source": [
    "print(cat_col)"
   ]
  },
  {
   "cell_type": "code",
   "execution_count": 36,
   "id": "390c1a9a",
   "metadata": {},
   "outputs": [
    {
     "data": {
      "text/plain": [
       "array([2, 3, 4, 1])"
      ]
     },
     "execution_count": 36,
     "metadata": {},
     "output_type": "execute_result"
    }
   ],
   "source": [
    "df['chest_pain_type'].unique()"
   ]
  },
  {
   "cell_type": "code",
   "execution_count": 32,
   "id": "c4d09446",
   "metadata": {},
   "outputs": [
    {
     "data": {
      "text/html": [
       "<div>\n",
       "<style scoped>\n",
       "    .dataframe tbody tr th:only-of-type {\n",
       "        vertical-align: middle;\n",
       "    }\n",
       "\n",
       "    .dataframe tbody tr th {\n",
       "        vertical-align: top;\n",
       "    }\n",
       "\n",
       "    .dataframe thead th {\n",
       "        text-align: right;\n",
       "    }\n",
       "</style>\n",
       "<table border=\"1\" class=\"dataframe\">\n",
       "  <thead>\n",
       "    <tr style=\"text-align: right;\">\n",
       "      <th></th>\n",
       "      <th>age</th>\n",
       "      <th>sex</th>\n",
       "      <th>chest_pain_type</th>\n",
       "      <th>resting_bp_s</th>\n",
       "      <th>cholesterol</th>\n",
       "      <th>fasting_blood_sugar</th>\n",
       "      <th>resting_ecg</th>\n",
       "      <th>max_heart_rate</th>\n",
       "      <th>exercise_angina</th>\n",
       "      <th>oldpeak</th>\n",
       "      <th>ST_slope</th>\n",
       "      <th>target</th>\n",
       "    </tr>\n",
       "  </thead>\n",
       "  <tbody>\n",
       "    <tr>\n",
       "      <th>0</th>\n",
       "      <td>40</td>\n",
       "      <td>1</td>\n",
       "      <td>2</td>\n",
       "      <td>140</td>\n",
       "      <td>289</td>\n",
       "      <td>0</td>\n",
       "      <td>0</td>\n",
       "      <td>172</td>\n",
       "      <td>0</td>\n",
       "      <td>0.0</td>\n",
       "      <td>1</td>\n",
       "      <td>0</td>\n",
       "    </tr>\n",
       "    <tr>\n",
       "      <th>1</th>\n",
       "      <td>49</td>\n",
       "      <td>0</td>\n",
       "      <td>3</td>\n",
       "      <td>160</td>\n",
       "      <td>180</td>\n",
       "      <td>0</td>\n",
       "      <td>0</td>\n",
       "      <td>156</td>\n",
       "      <td>0</td>\n",
       "      <td>1.0</td>\n",
       "      <td>2</td>\n",
       "      <td>1</td>\n",
       "    </tr>\n",
       "    <tr>\n",
       "      <th>2</th>\n",
       "      <td>37</td>\n",
       "      <td>1</td>\n",
       "      <td>2</td>\n",
       "      <td>130</td>\n",
       "      <td>283</td>\n",
       "      <td>0</td>\n",
       "      <td>1</td>\n",
       "      <td>98</td>\n",
       "      <td>0</td>\n",
       "      <td>0.0</td>\n",
       "      <td>1</td>\n",
       "      <td>0</td>\n",
       "    </tr>\n",
       "    <tr>\n",
       "      <th>3</th>\n",
       "      <td>48</td>\n",
       "      <td>0</td>\n",
       "      <td>4</td>\n",
       "      <td>138</td>\n",
       "      <td>214</td>\n",
       "      <td>0</td>\n",
       "      <td>0</td>\n",
       "      <td>108</td>\n",
       "      <td>1</td>\n",
       "      <td>1.5</td>\n",
       "      <td>2</td>\n",
       "      <td>1</td>\n",
       "    </tr>\n",
       "    <tr>\n",
       "      <th>4</th>\n",
       "      <td>54</td>\n",
       "      <td>1</td>\n",
       "      <td>3</td>\n",
       "      <td>150</td>\n",
       "      <td>195</td>\n",
       "      <td>0</td>\n",
       "      <td>0</td>\n",
       "      <td>122</td>\n",
       "      <td>0</td>\n",
       "      <td>0.0</td>\n",
       "      <td>1</td>\n",
       "      <td>0</td>\n",
       "    </tr>\n",
       "  </tbody>\n",
       "</table>\n",
       "</div>"
      ],
      "text/plain": [
       "   age  sex  chest_pain_type  resting_bp_s  cholesterol  fasting_blood_sugar  \\\n",
       "0   40    1                2           140          289                    0   \n",
       "1   49    0                3           160          180                    0   \n",
       "2   37    1                2           130          283                    0   \n",
       "3   48    0                4           138          214                    0   \n",
       "4   54    1                3           150          195                    0   \n",
       "\n",
       "   resting_ecg  max_heart_rate  exercise_angina  oldpeak  ST_slope  target  \n",
       "0            0             172                0      0.0         1       0  \n",
       "1            0             156                0      1.0         2       1  \n",
       "2            1              98                0      0.0         1       0  \n",
       "3            0             108                1      1.5         2       1  \n",
       "4            0             122                0      0.0         1       0  "
      ]
     },
     "execution_count": 32,
     "metadata": {},
     "output_type": "execute_result"
    }
   ],
   "source": [
    "df.head()"
   ]
  },
  {
   "cell_type": "code",
   "execution_count": 38,
   "id": "fbf34194",
   "metadata": {},
   "outputs": [
    {
     "name": "stdout",
     "output_type": "stream",
     "text": [
      "sex [1 0]\n",
      "chest_pain_type [2 3 4 1]\n",
      "fasting_blood_sugar [0 1]\n",
      "resting_ecg [0 1 2]\n",
      "exercise_angina [0 1]\n",
      "ST_slope [1 2 3 0]\n",
      "target [0 1]\n"
     ]
    }
   ],
   "source": [
    "for i in cat_col:\n",
    "    print(i,df[i].unique())"
   ]
  },
  {
   "cell_type": "code",
   "execution_count": null,
   "id": "a243e5a5",
   "metadata": {},
   "outputs": [],
   "source": []
  }
 ],
 "metadata": {
  "kernelspec": {
   "display_name": ".venv (3.13.1)",
   "language": "python",
   "name": "python3"
  },
  "language_info": {
   "codemirror_mode": {
    "name": "ipython",
    "version": 3
   },
   "file_extension": ".py",
   "mimetype": "text/x-python",
   "name": "python",
   "nbconvert_exporter": "python",
   "pygments_lexer": "ipython3",
   "version": "3.13.1"
  }
 },
 "nbformat": 4,
 "nbformat_minor": 5
}
